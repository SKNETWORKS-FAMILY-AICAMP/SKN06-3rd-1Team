{
 "cells": [
  {
   "cell_type": "markdown",
   "metadata": {},
   "source": [
    "# 01. 데이터 수집"
   ]
  },
  {
   "attachments": {
    "open_api.png": {
     "image/png": "[encoded data removed]"
    }
   },
   "cell_type": "markdown",
   "metadata": {},
   "source": [
    "### 1) 정보 찾기\n",
    "\n",
    "Open API 인증을 요청했지만 아직 승인 받지 못함    \n",
    "\n",
    "  ![open_api.png](attachment:open_api.png)"
   ]
  },
  {
   "cell_type": "markdown",
   "metadata": {},
   "source": [
    "온통청년 (https://www.youthcenter.go.kr/youngPlcyUnif/youngPlcyUnifList.do) 크롤링 하기로 결정"
   ]
  },
  {
   "cell_type": "markdown",
   "metadata": {},
   "source": [
    "### 2) 크롤링\n",
    "\n",
    "**라이브러리 불러오기**"
   ]
  },
  {
   "cell_type": "code",
   "execution_count": 1,
   "metadata": {},
   "outputs": [],
   "source": [
    "import requests\n",
    "from bs4 import BeautifulSoup as bs\n",
    "import re\n",
    "import pickle\n",
    "import json\n",
    "import os"
   ]
  },
  {
   "cell_type": "markdown",
   "metadata": {},
   "source": [
    "**json,pickle 저장 및 불러오기 함수 정의**"
   ]
  },
  {
   "cell_type": "code",
   "execution_count": 2,
   "metadata": {},
   "outputs": [],
   "source": [
    "def save_pickle(path: str, file_name: str, data: list):\n",
    "    \"\"\"\n",
    "    데이터를 pickle 파일로 저장.\n",
    "    \"\"\"\n",
    "    os.makedirs(path, exist_ok=True)\n",
    "    with open(f\"{path}/{file_name}\", \"wb\") as f:\n",
    "        pickle.dump(data, f)\n",
    "\n",
    "def load_pickle(path: str) -> list:\n",
    "    \"\"\"\n",
    "    pickle 파일에서 데이터 불러오기.\n",
    "    \"\"\"\n",
    "    with open(path, \"rb\") as f:\n",
    "        return pickle.load(f)\n",
    "\n",
    "def save_json(path: str, file_name: str, data: list):\n",
    "    \"\"\"\n",
    "    데이터를 json 파일로 저장.\n",
    "    \"\"\"\n",
    "    os.makedirs(path, exist_ok=True)\n",
    "    with open(f\"{path}/{file_name}\", \"w\", encoding=\"utf-8\") as f:\n",
    "        json.dump(data, f, indent=4, ensure_ascii=False)\n",
    "\n",
    "def load_json(path: str) -> list:\n",
    "    \"\"\"\n",
    "    json 파일에서 데이터 불러오기.\n",
    "    \"\"\"\n",
    "    with open(path, \"r\", encoding=\"utf-8\") as f:\n",
    "        return json.load(f)\n"
   ]
  },
  {
   "cell_type": "markdown",
   "metadata": {},
   "source": [
    "**정책 ID 크롤링**\n",
    "- 목록 정렬: 1 페이지 - 60개 정책, 총 59 페이지.\n",
    "- 정책 모집 현황은 '진행중','상시','신청 마감'으로 3가지. `24년 12월 23일 기준`으로 `상시`, `진행중`인 정책들만 추출.\n",
    "   ```\n",
    "    <div class=\"badge\">\n",
    "      <span class=\"label green\">진행중</span>\n",
    "      <span class=\"cate\">주거분야</span>\n",
    "    </div>\n",
    "    ```\n",
    "- 각 정책의 링크가 아래와 같이 구성. id 부분에서 `dtlLink_`를 제외한 부분이 각 정책의 코드번호.\n",
    "  ```\n",
    "   <a href=\"#\"id=\"dtlLink_R2024011018628\"onclick=\"f_Detail('R2024011018628');\"class=\"tit\">청년 주택드림 청약통장</a>\n",
    "   ```\n",
    "- 1 페이지부터 59 페이지까지 각 페이지에 있는 정책들의 id만 list로 추출.\n"
   ]
  },
  {
   "cell_type": "code",
   "execution_count": 3,
   "metadata": {},
   "outputs": [],
   "source": [
    "def get_ids_with_state(page_num: int, url: str) -> list:\n",
    "    \"\"\"\n",
    "    청년 정책의 ID 수집.\n",
    "    Parameters:\n",
    "        page_num (int): 추출하려는 총 페이지 수\n",
    "        url (str): 추출 대상의 페이지 링크를 조합할 베이스 링크\n",
    "    Returns:\n",
    "        policy_id_list (list): 상시, 진행중인 정책의 ID를 list로 모아 반환합니다.\n",
    "    \"\"\"\n",
    "    policy_id_list = []\n",
    "    for i in range(1, page_num + 1):\n",
    "        response = requests.get(f\"{url}{i}\")\n",
    "        soup = bs(response.text, \"lxml\")\n",
    "        \n",
    "        badges = soup.select(\"div.badge\")\n",
    "        titles = soup.select(\"a.tit\")\n",
    "        organ = soup.select(\"div.organ-name\")\n",
    "        \n",
    "        for j in range(len(titles)):\n",
    "            badge = badges[j].find(\"span\", attrs={\"label\"}).text\n",
    "            if badge in [\"진행중\", \"상시\"]:\n",
    "                policy_id = titles[j].attrs[\"id\"].replace(\"dtlLink_\", \"\")\n",
    "                organ_name = re.sub(r\"<.*?>\", \"\", str(organ[j].select_one(\"p\")))\n",
    "                organ_name = \"세종\" if organ_name == \"세종 세종\" else organ_name\n",
    "                if policy_id not in policy_id_list:\n",
    "                    policy_id_list.append([policy_id, organ_name])\n",
    "    \n",
    "    return policy_id_list\n"
   ]
  },
  {
   "cell_type": "markdown",
   "metadata": {},
   "source": [
    "**정책 상세 정보 크롤링**\n",
    "- index\n",
    "\n",
    "| index | name               | index | name                     |\n",
    "| ----- | ------------------ | ----- | ------------------------ |\n",
    "| 0     | \"정책 번호\"        | 13    | \"추가 단서 사항\"         |\n",
    "| 1     | \"정책 분야\"        | 14    | \"참여 제한 대상\"         |\n",
    "| 2     | \"지원 내용\"        | 15    | \"신청 절차\"              |\n",
    "| 3     | \"사업 운영 기간\"   | 16    | \"심사 및 발표\"           |\n",
    "| 4     | \"사업 신청청 기간\" | 17    | \"신청 사이트\"            |\n",
    "| 5     | \"지원 규모(명)\"    | 18    | \"제출 서류\"              |\n",
    "| 6     | \"비고\"             | 19    | \"기타 유익 정보\"         |\n",
    "| 7     | \"연령\"             | 20    | \"주관 기관\"              |\n",
    "| 8     | \"거주지 및 소득\"   | 21    | \"운영 기관\"              |\n",
    "| 9     | \"학력\"             | 22    | \"사업관련 참고 사이트 1\" |\n",
    "| 10    | \"전공\"             | 23    | \"사업관련 참고 사이트 2\" |\n",
    "| 11    | \"취업 상태\"        | 24    | \"첨부파일\"               |\n",
    "| 12    | \"특화 분야\"        |\n"
   ]
  },
  {
   "cell_type": "markdown",
   "metadata": {},
   "source": [
    "**HTML 문자열 처리 함수 정의**\n",
    "- '객체.text'로 추출되지 않는 요소들이 존재. -> '객체.contents'로 개별 요소 추출.\n",
    "- 요소에 `<br/>`이 있는 경우 이 현상이 잘 나타남. -> `<br/>`태그 제거\n",
    "- '객체.text'로 추출한 경우 과도한 공백 및 줄바꿈 발견\n",
    "- '객체.contents'로 추출할 경우 과도한 공백 및 줄바꿈을 이스케이프 문자로 추출 -> `\\n, \\t`등 이스케이프 문자 제거\n",
    "- 여기서 과도한 공백이란 두 칸 이상의 띄어쓰기를 한 경우. 전체 띄어쓰기를 한 칸으로 맞추려면 시간이 오래 소요되기 때문에 두 칸만 제거."
   ]
  },
  {
   "cell_type": "code",
   "execution_count": 4,
   "metadata": {},
   "outputs": [],
   "source": [
    "def formated(string: str) -> str:\n",
    "    \"\"\"\n",
    "    HTML 태그, 이스케이프 문자, 과도한 공백 제거.\n",
    "    \"\"\"\n",
    "    tag_format = r\"<.*?>\"\n",
    "    string = string.replace(\"\\n\", \"\").replace(\"\\t\", \"\")\n",
    "    string = re.sub(tag_format, \"\", str(string))\n",
    "    string = string.replace(\"  \", \"\")\n",
    "    return string"
   ]
  },
  {
   "cell_type": "code",
   "execution_count": 5,
   "metadata": {},
   "outputs": [],
   "source": [
    "def crawling(policy_id_list: list, url: str, params: dict, cont_attrs: bool = True) -> list:\n",
    "    \"\"\"\n",
    "    정책 상세 정보를 수집.\n",
    "    \"\"\"\n",
    "    total_policy = []\n",
    "    format = {\"br\": r\"<br/>\", \"a\": r\"<a href\"}\n",
    "    \n",
    "    for id, organ in policy_id_list:\n",
    "        policy = {}\n",
    "        try:\n",
    "            response = requests.get(f\"{url}{id}\")\n",
    "        except:\n",
    "            response = requests.get(f\"{url.replace('https', 'http')}{id}\")\n",
    "        \n",
    "        soup = bs(response.text, \"html.parser\")\n",
    "\n",
    "        # 정책 이름 추출\n",
    "        title = soup.find(params[\"title\"][0], params[\"title\"][1]).text\n",
    "        policy[\"정책 이름\"] = title\n",
    "        \n",
    "        if cont_attrs:\n",
    "            policy[\"기관\"] = organ\n",
    "            subtitle = soup.find(\"p\", \"doc_desc\").text\n",
    "            subtitle = subtitle.replace(\"\\r\", \" \")\n",
    "            subtitle = subtitle.strip()\n",
    "            policy[\"요약\"] = subtitle\n",
    "            list_tit = soup.find_all(\n",
    "                name=params[\"list_tit\"][0], attrs=params[\"list_tit\"][1]\n",
    "            )\n",
    "            list_cont = soup.find_all(\n",
    "                name=params[\"list_cont\"][0], attrs=params[\"list_cont\"][1]\n",
    "            )\n",
    "        else:\n",
    "            list_tit = soup.find_all(name=params[\"list_tit\"][0])\n",
    "            list_cont = soup.find_all(name=params[\"list_cont\"][0])\n",
    "        \n",
    "        # 항목 내용 처리\n",
    "        for i in range(len(list_tit)):\n",
    "            # list_cont[i].contents = [\"\\n\", \"ㅁㅁㅁ\", \"\\n\"] 또는 [\"\\n\\t\\t\\t\\tㅁㅁㅁㅁ\\n\\t\\t\\t\\t\", \"<br/>\", \"ㅁㅁㅁ\"]과 같이 나옴\n",
    "            if len(list_cont[i].contents) > 1:\n",
    "                contents = []\n",
    "                for j in range(len(list_cont[i].contents)):\n",
    "                    content = list_cont[i].contents[j]\n",
    "                    # <br/> 제거\n",
    "                    if re.match(format[\"br\"], str(content)) != None:\n",
    "                        content = None\n",
    "                    # url만 있는 경우 추출\n",
    "                    elif re.match(format[\"a\"], str(content)) != None:\n",
    "                        content = content.attrs[\"href\"]\n",
    "                    # 그 외 공백 제거, '\\n', '\\t', 제거 안된 html 태그 제거\n",
    "                    else:\n",
    "                        content = content.text\n",
    "                        content = content.strip()\n",
    "                        content = formated(content)\n",
    "                    # 처리 작업이 끝난 후 의미있는 요소만 contents(list)에 추가\n",
    "                    if content not in [None, \"\\n\", \"\", \",\"]:\n",
    "                        # \\r이 있을 경우 이를 구분자로 분할한 뒤 삽입\n",
    "                        if \"\\r\" in content:\n",
    "                            content = content.split(\"\\r\")\n",
    "                            for con in content:\n",
    "                                contents.append(con)\n",
    "                        else:\n",
    "                            contents.append(content)\n",
    "                if len(contents) == 1:\n",
    "                    contents = \"\".join(contents)\n",
    "            else:\n",
    "                contents = list_cont[i].contents\n",
    "                contents = \"\".join(contents)\n",
    "                contents = formated(contents)\n",
    "\n",
    "            # 동일한 요소가 contents(list)에 들어있을 경우\n",
    "            if (\n",
    "                isinstance(contents, list)\n",
    "                and len(contents) == 2\n",
    "                and contents[0] == contents[1]\n",
    "            ):\n",
    "                contents = set(contents)\n",
    "                contents = \"\".join(contents)\n",
    "                contents = formated(contents)\n",
    "            # 정책의 항목 이름, 내용 연결\n",
    "            policy[list_tit[i].text] = contents\n",
    "        total_policy.append(policy)\n",
    "    return total_policy"
   ]
  },
  {
   "cell_type": "markdown",
   "metadata": {},
   "source": [
    "**main 코드**\n",
    "- 해당 웹 사이트 크롤링"
   ]
  },
  {
   "cell_type": "code",
   "execution_count": null,
   "metadata": {},
   "outputs": [
    {
     "name": "stdout",
     "output_type": "stream",
     "text": [
      "1337개 정책 ID 크롤링 완료\n",
      "policy_id_list 저장 완료\n"
     ]
    }
   ],
   "source": [
    "# 저장 경로 생성\n",
    "DATA_DIR = \"../data\"\n",
    "os.makedirs(DATA_DIR, exist_ok=True)\n",
    "\n",
    "# 정책 ID 수집\n",
    "URL = \"https://www.youthcenter.go.kr/youngPlcyUnif/youngPlcyUnifList.do?pageUnit=60&pageIndex=\"\n",
    "policy_id_list = get_ids_with_state(59, URL)\n",
    "print(f\"{len(policy_id_list)}개 정책 ID 크롤링 완료\")\n",
    "\n",
    "# 저장\n",
    "save_pickle(f\"{DATA_DIR}\", \"policy_id_list.pkl\", policy_id_list)\n",
    "print(\"policy_id_list 저장 완료\")\n",
    "\n",
    "# 정책 상세 정보 크롤링\n",
    "DETAIL_URL = \"https://www.youthcenter.go.kr/youngPlcyUnif/youngPlcyUnifDtl.do?bizId=\"\n",
    "params = {\n",
    "    \"title\": [\"h2\", \"doc_tit01 type2\"],\n",
    "    \"list_tit\": [\"div\", \"list_tit\"],\n",
    "    \"list_cont\": [\"div\", \"list_cont\"],\n",
    "}\n",
    "total_policy = crawling(policy_id_list, DETAIL_URL, params, cont_attrs=True)\n",
    "print(f\"{len(total_policy)}개 정책 상세 정보 크롤링 완료\")\n",
    "\n",
    "# 저장\n",
    "save_json(f\"{DATA_DIR}\", \"policy.json\", total_policy)\n",
    "print(\"policy.json 저장 완료\")\n"
   ]
  },
  {
   "cell_type": "markdown",
   "metadata": {},
   "source": [
    "# 02. 데이터 전처리"
   ]
  },
  {
   "cell_type": "markdown",
   "metadata": {},
   "source": [
    "### 1) 데이터 구조화\n",
    "\n",
    "**사용되지 않을 항목 삭제**\n",
    "- key값이 아래에 해당하면 항목 삭제\n",
    "  >[\"정책 번호\", \"신청 사이트\", \"사업관련 참고 사이트 1\", \"사업관련 참고 사이트 2\", \"첨부파일\"]\n",
    "\n",
    "\n",
    "**의미 없는 값 삭제**\n",
    "- value값이 아래에 해당하면 항목 삭제\n",
    "  >[\"제한없음\", \"\", \"-\", \"상관없음\", \"□제한없음\",\"□ 제한없음\",\"- 제한없음\",\"-제한없음\"]"
   ]
  },
  {
   "cell_type": "code",
   "execution_count": 6,
   "metadata": {},
   "outputs": [
    {
     "name": "stdout",
     "output_type": "stream",
     "text": [
      "policy_result.json 저장 완료\n"
     ]
    }
   ],
   "source": [
    "# 삭제 항목 정의\n",
    "remove_keys = [\n",
    "    \"정책 번호\", \"신청 사이트\", \n",
    "    \"사업관련 참고 사이트 1\", \"사업관련 참고 사이트 2\", \"첨부파일\"\n",
    "]\n",
    "\n",
    "remove_values = [\n",
    "    \"제한없음\", \"\", \"-\", \"상관없음\", \"□제한없음\",\n",
    "    \"□ 제한없음\",\"- 제한없음\",\"-제한없음\"\n",
    "]\n",
    "\n",
    "# 삭제 함수 정의\n",
    "def remove_keys_from_data(data, keys):\n",
    "    if isinstance(data, list):\n",
    "        return [remove_keys_from_data(item, keys) for item in data]\n",
    "    elif isinstance(data, dict):\n",
    "        return {\n",
    "            key: remove_keys_from_data(value, keys)\n",
    "            for key, value in data.items()\n",
    "            if key not in keys\n",
    "        }\n",
    "    else:\n",
    "        return data\n",
    "\n",
    "def remove_values_from_data(data):\n",
    "    if isinstance(data, list):\n",
    "        return [remove_values_from_data(item) for item in data if item not in remove_values]\n",
    "    elif isinstance(data, dict):\n",
    "        return {\n",
    "            key: remove_values_from_data(value)\n",
    "            for key, value in data.items()\n",
    "            if value not in remove_values\n",
    "        }\n",
    "    else:\n",
    "        return data\n",
    "    \n",
    "# 불러오기 \n",
    "data = load_json(\"../data/policy.json\")\n",
    "\n",
    "# 삭제\n",
    "data_cleaned_keys = remove_keys_from_data(data, remove_keys)\n",
    "preprocess_data = remove_values_from_data(data_cleaned_keys)\n",
    "\n",
    "# 저장\n",
    "save_json(\"../data\",\"policy_result.json\", preprocess_data)\n",
    "\n",
    "print(\"policy_result.json 저장 완료\")"
   ]
  },
  {
   "cell_type": "markdown",
   "metadata": {},
   "source": [
    "### 2) 텍스트 전처리"
   ]
  },
  {
   "cell_type": "markdown",
   "metadata": {},
   "source": [
    "**불용어 삭제**\n",
    "- 문서에서 `100번 이상` 등장한 단어를 frequent_words 리스트에 저장\n",
    "- 리스트에서 불용어로 판단 되는 것들 추출\n",
    "- 성능 평가 후 성능 최적화를 위해 삭제하는 단어를 변경할 수 있음\n",
    "- 불용어 리스트\n",
    "  > \"수행\", \"경우\", \"해당\", \"통하여\", \"대한\", \"관련\",\"등\", \"및\", \"또는\", \"중인\", \"통해\",\n",
    "    \"따라\", \"서비스\", \"제공\", \"프로그램\", \"참여\", \"따른\", \"대한\", \"해당\", \"관한\",\"이용\", \n",
    "    \"등을\", \"두고\"\n"
   ]
  },
  {
   "cell_type": "code",
   "execution_count": 7,
   "metadata": {},
   "outputs": [
    {
     "name": "stdout",
     "output_type": "stream",
     "text": [
      "[100번 이상 등장하는 단어]\n",
      "청년, 청년의, 내, 위해, 지원, 주거분야, 최대, 연, 있는, 자\n",
      "기준, 월, 경우, 연계, 1년, 이상, 가입, 시, 이하, 주택\n",
      "출산, 2024년, 12월31일, 가능, 만, 19세, 34세, 소득, 대상, 월세\n",
      "매월, 2024, 2, 신청, 무주택, 중위소득, 등, 및, 확인, 제외\n",
      "포함, 거주, 별도, 또는, 중인, 후, 온라인, 방문, 지급, 신청서\n",
      "서류, 사본, 사업, 심사, 통해, 고용노동부, 위한, 일자리분야, 1, 따라\n",
      "서비스, 제공, 기간, 프로그램, 참여, 취업, 따른, 단, 1회, 추가\n",
      "상시, 중, 수, 6개월, 이내, 필요한, 1인, 가구, 문의, 대상자\n",
      "동의서, 제출, 신청인이, 관련, 증빙서류, 3, 4, 5, 3개월, 보건복지부\n",
      "지역, 복지문화분야, 맞춤형, 부담, 참고, 대한, 모두, 해당, 배우자, 현재\n",
      "관한, 홈페이지, 관할, 선정, 기타, 주민등록상, 동일, 중소기업, 이용, 불가\n",
      "그, 신분증, 주민등록등본, 창업, 지원내용, 대상으로, 필수, 등을, 1인당, 미만\n",
      "각, 개별, 지원사업, 18세, 이후, 39세, 공고문, 20241231, 본인, 주소지\n",
      "거주지, 읍면동, 행정복지센터, 예산, 미취업, 안내, 참조, 무료, 발급, 기업\n",
      "모집, 서울, 운영, 교육, 서울시, 신혼부부, 신청자, 작성, 접수, 내용\n",
      "주관기관과, 12, 도내, 상담, 자립준비청년, 신청일, 두고, 신청방법, 지원대상, 거주하는\n",
      "임차인, 교육분야, 30만원, 사업장, 사업자, 소상공인, 청년들의, 통한, 지원금, 면접\n",
      "소재, 사업기간, 참여자, 일자리, 11, 대학생, 미정, 경기, 경기도, 공고\n",
      "관내, 이메일, 경북, 경남, 컨설팅, 1부, 북구, 동구, 남구, 울산광역시\n",
      "전세보증금반환보증, 보증료, 울산\n"
     ]
    }
   ],
   "source": [
    "import json\n",
    "import re\n",
    "from collections import Counter\n",
    "\n",
    "# 불러오기\n",
    "data = load_json(\"../data/policy.json\")\n",
    "\n",
    "# 모든 텍스트 추출\n",
    "def text_from_json(data):\n",
    "    \"\"\"\n",
    "    JSON 데이터에서 모든 문자열을 추출.\n",
    "    \"\"\"\n",
    "    texts = []\n",
    "    if isinstance(data, dict):\n",
    "        for value in data.values():\n",
    "            texts.extend(text_from_json(value))\n",
    "    elif isinstance(data, list):\n",
    "        for item in data:\n",
    "            texts.extend(text_from_json(item))\n",
    "    elif isinstance(data, str):\n",
    "        texts.append(data)\n",
    "    return texts\n",
    "\n",
    "# 단어 분리\n",
    "def text_to_word(text):\n",
    "    \"\"\"\n",
    "    텍스트를 정제하고 단어 단위로 분리.\n",
    "    \"\"\"\n",
    "    text = re.sub(r'[^가-힣a-zA-Z0-9\\s]', '', text)  # 특수문자 제거\n",
    "    words = text.split()  # 공백 기준으로 단어 분리\n",
    "    return words\n",
    "\n",
    "# 자주 등장하는 단어 찾기\n",
    "def get_frequent_words(words, threshold=100):\n",
    "    \"\"\"\n",
    "    단어 목록에서 자주 등장하는 단어를 찾음.\n",
    "    \"\"\"\n",
    "    word_counts = Counter(words)\n",
    "    frequent_words = [word for word, count in word_counts.items() if count >= threshold]\n",
    "    return frequent_words\n",
    "\n",
    "# 실행\n",
    "if __name__ == \"__main__\":\n",
    "\n",
    "    # 불러오기\n",
    "    FILE_PATH = \"../data/policy_result.json\"\n",
    "    data = load_json(FILE_PATH)\n",
    "    \n",
    "    # 텍스트 추출\n",
    "    texts = text_from_json(data)\n",
    "    \n",
    "    # 단어 분리\n",
    "    all_words = []\n",
    "    for text in texts:\n",
    "        all_words.extend(text_to_word(text))\n",
    "    \n",
    "    # 50번 이상 등장하는 단어\n",
    "    threshold = 100\n",
    "    frequent_words = get_frequent_words(all_words, threshold)\n",
    "    \n",
    "    # 출력\n",
    "    print(\"[100번 이상 등장하는 단어]\")\n",
    "    for i in range(0, len(frequent_words), 10):\n",
    "        print(\", \".join(frequent_words[i:i + 10]))\n"
   ]
  },
  {
   "cell_type": "markdown",
   "metadata": {},
   "source": [
    "**url 삭제**\n",
    "- 정규표현식이 'http://'(http,https),'.kr'인 경우 url이라고 판단하고 삭제  \n",
    "\n",
    "**특수기호 삭제**\n",
    "- 숫자, 한글, 영어를 제외하고 삭제\n",
    "- 소수점 유지를 위해 '.'은 유지"
   ]
  },
  {
   "cell_type": "code",
   "execution_count": 8,
   "metadata": {},
   "outputs": [
    {
     "name": "stdout",
     "output_type": "stream",
     "text": [
      "policy_result.json 저장 완료\n"
     ]
    }
   ],
   "source": [
    "import re\n",
    "\n",
    "# 불러오기\n",
    "data = load_json(\"../data/policy_result.json\")\n",
    "\n",
    "# 불용어 \n",
    "stopwords = [\n",
    "    \"수행\", \"경우\", \"해당\", \"통하여\", \"대한\", \"관련\",\"등\", \"및\", \"또는\", \"중인\", \"통해\",\n",
    "    \"따라\", \"서비스\", \"제공\", \"프로그램\", \"참여\", \"따른\", \"대한\", \"해당\", \"관한\",\"이용\", \n",
    "    \"등을\", \"두고\"\n",
    "]\n",
    "\n",
    "# 제거 함수\n",
    "def remove_text(text):\n",
    "    if isinstance(text, str):\n",
    "        # URL 제거\n",
    "        text = re.sub(r'\\bhttps?://[^\\s]*\\.kr\\b', '', text)\n",
    "        \n",
    "        # 특수기호 제거 (숫자, 한글, 영어 유지)\n",
    "        text = re.sub(r'[^가-힣a-zA-Z0-9\\s.~%]',' ', text)\n",
    "        \n",
    "        # 불용어 제거\n",
    "        for stopword in stopwords:\n",
    "            text = text.replace(stopword, '')\n",
    "        return text   \n",
    "    \n",
    "    return text\n",
    "\n",
    "# 데이터 처리\n",
    "def process_json(data):\n",
    "    if isinstance(data, dict):\n",
    "        return {key: process_json(value) for key, value in data.items()}\n",
    "    elif isinstance(data, list):\n",
    "        return [process_json(item) for item in data]\n",
    "    elif isinstance(data, str):\n",
    "        return remove_text(data)\n",
    "    else:\n",
    "        return data\n",
    "\n",
    "\n",
    "cleaned_data = process_json(data)\n",
    "\n",
    "# 저장\n",
    "save_json(\"../data\",\"policy_result.json\",cleaned_data)\n",
    "print(\"policy_result.json 저장 완료\")"
   ]
  },
  {
   "cell_type": "markdown",
   "metadata": {},
   "source": [
    "### 3) 토큰화"
   ]
  },
  {
   "cell_type": "markdown",
   "metadata": {},
   "source": [
    "**key- value값 병합**\n",
    "- key 값:'정책 이름', '기관', '요약', '정책 분야'인 경우는 유지\n",
    "- 나머지 모든 key,value값 문자열로 반환 -> 병합 후 key 값:\"내용\"의 value값에 저장"
   ]
  },
  {
   "cell_type": "markdown",
   "metadata": {},
   "source": [
    "**토큰화**\n",
    "- 청년 정책 챗봇은 정확한 정보 전달을 최우선으로 여김\n",
    "- chunk size를 지정해 토큰화하지 않고 key-value값 병합된 문자열을 하나의 토큰으로 나눔"
   ]
  },
  {
   "cell_type": "code",
   "execution_count": 9,
   "metadata": {},
   "outputs": [
    {
     "name": "stdout",
     "output_type": "stream",
     "text": [
      "policy_result.json 저장 완료\n"
     ]
    }
   ],
   "source": [
    "import json\n",
    "import re\n",
    "\n",
    "# 불러오기\n",
    "data = load_json(\"../data/policy_result.json\")\n",
    "\n",
    "# 문자열 병합 \n",
    "def merge_values(item):\n",
    "    \"\"\"\n",
    "    리스트, 딕셔너리, 문자열을 하나의 문자열로 병합\n",
    "    \"\"\"\n",
    "    if isinstance(item, list):\n",
    "        return \" \".join(merge_values(sub_item) for sub_item in item)\n",
    "    elif isinstance(item, dict):\n",
    "        return \" \".join(f\"{key}: {merge_values(value)}\" for key, value in item.items())\n",
    "    elif isinstance(item, str):\n",
    "        return item.strip()\n",
    "    else:\n",
    "        return str(item)\n",
    "\n",
    "\n",
    "# 특정 키는 유지, 나머지는 병합\n",
    "def restructure_policy_data(data):\n",
    "    \"\"\"\n",
    "    '정책 이름', '기관', '요약', '정책 분야'는 유지하고 나머지는 '내용'에 병합\n",
    "    \"\"\"\n",
    "    result = []\n",
    "    if isinstance(data, list):\n",
    "        for item in data:\n",
    "            if isinstance(item, dict):\n",
    "                policy = {\n",
    "                    \"정책 이름\": item.get(\"정책 이름\", \"알 수 없음\"),\n",
    "                    \"기관\": item.get(\"기관\", \"알 수 없음\"),\n",
    "                    \"요약\": item.get(\"요약\", \"알 수 없음\"),\n",
    "                    \"정책 분야\": item.get(\"정책 분야\", \"알 수 없음\")\n",
    "                }\n",
    "\n",
    "                # '내용'에 나머지 항목 병합\n",
    "                remaining_content = [\n",
    "                    f\"{key}: {merge_values(value)}\"\n",
    "                    for key, value in item.items()\n",
    "                    if key not in [\"정책 이름\", \"기관\", \"요약\", \"정책 분야\"]\n",
    "                ]\n",
    "                policy[\"내용\"] = \" \".join(remaining_content)\n",
    "\n",
    "                result.append(policy)\n",
    "    return result\n",
    "\n",
    "\n",
    "# 실행행\n",
    "restructured_data = restructure_policy_data(data)\n",
    "\n",
    "\n",
    "# 저장\n",
    "save_json(\"../data\", \"policy_result.json\", restructured_data)\n",
    "print(\"policy_result.json 저장 완료\")\n",
    "\n"
   ]
  },
  {
   "cell_type": "markdown",
   "metadata": {},
   "source": [
    "### 4) 추가 수정\n",
    "성능 평가 후 개선되면 좋겠다고 판단하여 추가적으로 처리"
   ]
  },
  {
   "cell_type": "markdown",
   "metadata": {},
   "source": [
    "**기관->지역**\n",
    "- 기관에 지역명이 포함되어 있어 지역 구분 용으로 사용 ex) \"기관\": \"인천 계양구\"\n",
    "- 지역을 잘 구분하지 못하고 답을 보내 더 명확하게 구분하고자 다음과 같이 변경\n",
    ">   r'경.*북.*': '경상북도',   \n",
    "    r'경.*남.*': '경상남도',   \n",
    "    r'강.*원.*': '강원도',   \n",
    "    r'전.*북.*': '전라북도',   \n",
    "    r'전.*남.*': '전라남도',   \n",
    "    r'충.*북.*': '충청북도',   \n",
    "    r'충.*남.*': '충청남도',   \n",
    "    r'제.*주.*': '제주특별자치도',   \n",
    "    r'서.*울.*': '서울특별시',   \n",
    "    r'부.*산.*': '부산광역시',   \n",
    "    r'대.*구.*': '대구광역시',   \n",
    "    r'대.*전.*': '대전광역시',   \n",
    "    r'광.*주.*': '광주광역시',   \n",
    "    r'울.*산.*': '울산광역시',   \n",
    "    r'인.*천.*': '인천광역시',   \n",
    "    r'세.*종.*': '세종특별자치시'   \n",
    "\n",
    "- 지역명이 없는 기관은 전국 대상으로 처리 ex) \"기관\": \"고용노동부\""
   ]
  },
  {
   "cell_type": "code",
   "execution_count": 10,
   "metadata": {},
   "outputs": [
    {
     "name": "stdout",
     "output_type": "stream",
     "text": [
      "policy_result.json 저장 완료\n"
     ]
    }
   ],
   "source": [
    "import json\n",
    "import re\n",
    "\n",
    "# 불러오기\n",
    "data = load_json(\"../data/policy_result.json\")\n",
    "\n",
    "# 지역 매핑 (정규표현식: 기관명에 포함된 지역명)\n",
    "region_patterns = {\n",
    "    r'경.*북.*': '경상북도',\n",
    "    r'경.*남.*': '경상남도',\n",
    "    r'강.*원.*': '강원도',\n",
    "    r'전.*북.*': '전라북도',\n",
    "    r'전.*남.*': '전라남도',\n",
    "    r'충.*북.*': '충청북도',\n",
    "    r'충.*남.*': '충청남도',\n",
    "    r'제.*주.*': '제주특별자치도',\n",
    "    r'서.*울.*': '서울특별시',\n",
    "    r'부.*산.*': '부산광역시',\n",
    "    r'대.*구.*': '대구광역시',\n",
    "    r'대.*전.*': '대전광역시',\n",
    "    r'광.*주.*': '광주광역시',\n",
    "    r'울.*산.*': '울산광역시',\n",
    "    r'인.*천.*': '인천광역시',\n",
    "    r'세.*종.*': '세종특별자치시'\n",
    "}\n",
    "\n",
    "# 데이터 변환\n",
    "def replace_institution_with_region(data):\n",
    "    \"\"\"\n",
    "    '기관'을 '지역'으로 키를 대체하고 순서를 유지합니다.\n",
    "    \"\"\"\n",
    "    for policy in data:\n",
    "        if \"기관\" in policy:\n",
    "            institution = policy[\"기관\"]\n",
    "            region = '전국'  # 기본값 설정\n",
    "            \n",
    "            # 기관명에서 지역 매칭\n",
    "            for pattern, mapped_region in region_patterns.items():\n",
    "                if re.search(pattern, institution):\n",
    "                    region = mapped_region\n",
    "                    break\n",
    "            \n",
    "            # '기관'을 '지역'으로 대체 (순서 유지)\n",
    "            updated_policy = {}\n",
    "            for key, value in policy.items():\n",
    "                if key == \"기관\":\n",
    "                    updated_policy[\"지역\"] = region\n",
    "                else:\n",
    "                    updated_policy[key] = value\n",
    "            \n",
    "            # 기존 항목을 새로운 항목으로 교체\n",
    "            policy.clear()\n",
    "            policy.update(updated_policy)\n",
    "\n",
    "# 실행행\n",
    "replace_institution_with_region(data)\n",
    "\n",
    "# 저장\n",
    "save_json(\"../data\", \"policy_result.json\", data)\n",
    "print(\"policy_result.json 저장 완료\")\n"
   ]
  },
  {
   "cell_type": "markdown",
   "metadata": {},
   "source": [
    "**key값 띄어쓰기 삭제**\n",
    "- key값의 띄어쓰기 때문에 인식에 헷갈림이 있어 보임\n",
    "- '운영 기관'보다 '운영기관'을 더 잘 인식   \n",
    "\n",
    "**'분야' 삭제**\n",
    "- key 값 '정책 분야'의 내용에 담긴 마지막 두 글자 '분야' 삭제 \n",
    "    - ex) 일자리분야 -> 일자리\n",
    "- 더 다양한 질문에서 잘 인식\n",
    "    - ex) 일자리에 고민이 있어."
   ]
  },
  {
   "cell_type": "code",
   "execution_count": 11,
   "metadata": {},
   "outputs": [
    {
     "name": "stdout",
     "output_type": "stream",
     "text": [
      "policy_result.json 저장 완료\n"
     ]
    }
   ],
   "source": [
    "# 불러오기\n",
    "data = load_json(\"../data/policy_result.json\")\n",
    "\n",
    "# 띄어쓰기 제거 \n",
    "def remove_spaces(data):\n",
    "    \"\"\"\n",
    "    모든 Key에서 띄어쓰기를 제거합니다.\n",
    "    \"\"\"\n",
    "    if isinstance(data, list):\n",
    "        return [remove_spaces(item) for item in data]\n",
    "    elif isinstance(data, dict):\n",
    "        return {key.replace(\" \", \"\"): remove_spaces(value) for key, value in data.items()}\n",
    "    else:\n",
    "        return data\n",
    "\n",
    "# 마지막 2글자 삭제 \n",
    "def modify_policy_field(data):\n",
    "    \"\"\"\n",
    "    \"정책분야\"의 Value 마지막 2글자를 삭제합니다.\n",
    "    \"\"\"\n",
    "    if isinstance(data, list):\n",
    "        for item in data:\n",
    "            modify_policy_field(item)\n",
    "    elif isinstance(data, dict):\n",
    "        if \"정책분야\" in data and isinstance(data[\"정책분야\"], str):\n",
    "            data[\"정책분야\"] = data[\"정책분야\"][:-2]  # 마지막 2글자 제거\n",
    "        for key, value in data.items():\n",
    "            modify_policy_field(value)\n",
    "\n",
    "# 실행\n",
    "data = remove_spaces(data)\n",
    "modify_policy_field(data)\n",
    "\n",
    "# 저장\n",
    "save_json(\"../data\", \"policy_result.json\", data)\n",
    "print(\"policy_result.json 저장 완료\")\n"
   ]
  },
  {
   "cell_type": "markdown",
   "metadata": {},
   "source": [
    "# 03. RAG 시스템"
   ]
  },
  {
   "cell_type": "markdown",
   "metadata": {},
   "source": [
    "### 1) 환경 설정"
   ]
  },
  {
   "cell_type": "markdown",
   "metadata": {},
   "source": [
    "**.env 파일**\n",
    "- API키 저장한 .env 파일 불러오기"
   ]
  },
  {
   "cell_type": "code",
   "execution_count": 12,
   "metadata": {},
   "outputs": [
    {
     "data": {
      "text/plain": [
       "True"
      ]
     },
     "execution_count": 12,
     "metadata": {},
     "output_type": "execute_result"
    }
   ],
   "source": [
    "from dotenv import load_dotenv\n",
    "load_dotenv()"
   ]
  },
  {
   "cell_type": "markdown",
   "metadata": {},
   "source": [
    "**라이브러리 불러오기**"
   ]
  },
  {
   "cell_type": "code",
   "execution_count": 13,
   "metadata": {},
   "outputs": [],
   "source": [
    "import os\n",
    "import json\n",
    "import pickle\n",
    "import shutil\n",
    "import re\n",
    "\n",
    "from langchain_community.document_loaders import TextLoader\n",
    "from langchain.document_loaders import PyPDFLoader\n",
    "from langchain_chroma import Chroma\n",
    "from langchain_openai import OpenAIEmbeddings, ChatOpenAI\n",
    "from langchain.schema import Document\n",
    "from langchain_core.output_parsers import StrOutputParser\n",
    "from langchain_core.runnables.history import RunnableWithMessageHistory, RunnableLambda\n",
    "from langchain.prompts import ChatPromptTemplate, MessagesPlaceholder\n",
    "from langchain.cache import SQLiteCache\n",
    "from langchain.memory import ConversationBufferMemory\n",
    "from operator import itemgetter\n",
    "from langchain_community.tools import TavilySearchResults\n",
    "\n",
    "from langchain_core.tools import tool\n",
    "from itertools import chain"
   ]
  },
  {
   "cell_type": "markdown",
   "metadata": {},
   "source": [
    "### 2) Vector Store 생성 및 저장"
   ]
  },
  {
   "cell_type": "code",
   "execution_count": 14,
   "metadata": {},
   "outputs": [
    {
     "name": "stderr",
     "output_type": "stream",
     "text": [
      "C:\\Users\\User\\AppData\\Local\\Temp\\ipykernel_18672\\296073155.py:15: LangChainDeprecationWarning: The class `OpenAIEmbeddings` was deprecated in LangChain 0.0.9 and will be removed in 1.0. An updated version of the class exists in the :class:`~langchain-openai package and should be used instead. To use it run `pip install -U :class:`~langchain-openai` and import as `from :class:`~langchain_openai import OpenAIEmbeddings``.\n",
      "  embedding_model = OpenAIEmbeddings(model=EMBEDDING_MODEL_NAME)\n"
     ]
    },
    {
     "name": "stdout",
     "output_type": "stream",
     "text": [
      "기존 Vector Store를 ..\\data\\vector_store\\policy에서 로드합니다.\n",
      "Vector Store 저장 완료\n"
     ]
    },
    {
     "name": "stderr",
     "output_type": "stream",
     "text": [
      "C:\\Users\\User\\AppData\\Local\\Temp\\ipykernel_18672\\296073155.py:47: LangChainDeprecationWarning: The class `Chroma` was deprecated in LangChain 0.2.9 and will be removed in 1.0. An updated version of the class exists in the :class:`~langchain-chroma package and should be used instead. To use it run `pip install -U :class:`~langchain-chroma` and import as `from :class:`~langchain_chroma import Chroma``.\n",
      "  vector_store = Chroma(\n",
      "C:\\Users\\User\\AppData\\Local\\Temp\\ipykernel_18672\\296073155.py:63: LangChainDeprecationWarning: Since Chroma 0.4.x the manual persistence method is no longer supported as docs are automatically persisted.\n",
      "  vector_store.persist()\n"
     ]
    },
    {
     "name": "stdout",
     "output_type": "stream",
     "text": [
      "저장된 파일 목록: ['07237f56-5751-418f-a94c-8b3e346c8617', 'chroma.sqlite3']\n"
     ]
    }
   ],
   "source": [
    "import os\n",
    "from langchain.vectorstores import Chroma\n",
    "from langchain.embeddings import OpenAIEmbeddings\n",
    "from langchain.schema import Document\n",
    "import json\n",
    "\n",
    "# 설정\n",
    "DIRECTORY_PATH = r'..\\data'\n",
    "PERSIST_DIRECTORY = r'..\\data\\vector_store\\policy'\n",
    "COLLECTION_NAME = \"policy\"\n",
    "EMBEDDING_MODEL_NAME = 'text-embedding-ada-002'\n",
    "TOKENIZED_DATA_PATH = os.path.join(DIRECTORY_PATH, 'policy_result.json')\n",
    "\n",
    "# 임베딩 모델 초기화\n",
    "embedding_model = OpenAIEmbeddings(model=EMBEDDING_MODEL_NAME)\n",
    "\n",
    "# 불러오기\n",
    "data = load_json(TOKENIZED_DATA_PATH)\n",
    "\n",
    "# Document 객체로 변환\n",
    "documents = []\n",
    "for item in data:\n",
    "    policy_name = item.get(\"정책이름\", \"\")\n",
    "    summary = item.get(\"요약\", \"\")\n",
    "    policy_field = item.get(\"정책분야\", \"\")\n",
    "    region = item.get(\"지역\", \"\")\n",
    "    content = item.get(\"내용\", \"\")\n",
    "    \n",
    "    merged_text = f\"{policy_name} {summary} {policy_field} {region} {content}\"       \n",
    "    documents.append(\n",
    "        Document(\n",
    "            page_content=merged_text,\n",
    "            metadata={\n",
    "                \"정책이름\": policy_name,\n",
    "                \"요약\": summary,\n",
    "                \"정책분야\": policy_field,\n",
    "                \"내용\": content,\n",
    "                \"지역\": region,\n",
    "                \"source\": TOKENIZED_DATA_PATH\n",
    "            }\n",
    "        )\n",
    "    )\n",
    "\n",
    "# Vector Store 생성/로드\n",
    "if os.path.exists(PERSIST_DIRECTORY):\n",
    "    print(f\"기존 Vector Store를 {PERSIST_DIRECTORY}에서 로드합니다.\")\n",
    "    vector_store = Chroma(\n",
    "        persist_directory=PERSIST_DIRECTORY,\n",
    "        collection_name=COLLECTION_NAME,\n",
    "        embedding_function=embedding_model\n",
    "    )\n",
    "else:\n",
    "    print(f\"새로운 Vector Store를 {PERSIST_DIRECTORY}에 생성합니다.\")\n",
    "    os.makedirs(PERSIST_DIRECTORY, exist_ok=True)\n",
    "    vector_store = Chroma.from_documents(\n",
    "        documents=documents,\n",
    "        embedding=embedding_model,\n",
    "        collection_name=COLLECTION_NAME,\n",
    "        persist_directory=PERSIST_DIRECTORY\n",
    "    )\n",
    "\n",
    "# Vector Store 저장\n",
    "vector_store.persist()\n",
    "print(f\"Vector Store 저장 완료\")\n",
    "\n",
    "# 저장된 파일 확인\n",
    "saved_files = os.listdir(PERSIST_DIRECTORY)\n",
    "print(f\"저장된 파일 목록: {saved_files}\")"
   ]
  },
  {
   "cell_type": "markdown",
   "metadata": {},
   "source": [
    "### 3) 질문 - 답변 생성"
   ]
  },
  {
   "cell_type": "markdown",
   "metadata": {},
   "source": [
    "**라이브러리 불러오기**   \n"
   ]
  },
  {
   "cell_type": "code",
   "execution_count": 21,
   "metadata": {},
   "outputs": [
    {
     "name": "stdout",
     "output_type": "stream",
     "text": [
      "Requirement already satisfied: onnxruntime in c:\\users\\user\\miniconda3\\envs\\langchain\\lib\\site-packages (1.17.0)\n",
      "Collecting ragas\n",
      "  Downloading ragas-0.2.9-py3-none-any.whl.metadata (9.2 kB)\n",
      "Requirement already satisfied: coloredlogs in c:\\users\\user\\miniconda3\\envs\\langchain\\lib\\site-packages (from onnxruntime) (15.0.1)\n",
      "Requirement already satisfied: flatbuffers in c:\\users\\user\\miniconda3\\envs\\langchain\\lib\\site-packages (from onnxruntime) (24.3.25)\n",
      "Requirement already satisfied: numpy>=1.24.2 in c:\\users\\user\\miniconda3\\envs\\langchain\\lib\\site-packages (from onnxruntime) (1.26.4)\n",
      "Requirement already satisfied: packaging in c:\\users\\user\\miniconda3\\envs\\langchain\\lib\\site-packages (from onnxruntime) (24.2)\n",
      "Requirement already satisfied: protobuf in c:\\users\\user\\miniconda3\\envs\\langchain\\lib\\site-packages (from onnxruntime) (5.29.1)\n",
      "Requirement already satisfied: sympy in c:\\users\\user\\miniconda3\\envs\\langchain\\lib\\site-packages (from onnxruntime) (1.13.1)\n",
      "Collecting datasets (from ragas)\n",
      "  Downloading datasets-3.2.0-py3-none-any.whl.metadata (20 kB)\n",
      "Requirement already satisfied: tiktoken in c:\\users\\user\\miniconda3\\envs\\langchain\\lib\\site-packages (from ragas) (0.8.0)\n",
      "Requirement already satisfied: langchain in c:\\users\\user\\miniconda3\\envs\\langchain\\lib\\site-packages (from ragas) (0.3.11)\n",
      "Requirement already satisfied: langchain-core in c:\\users\\user\\miniconda3\\envs\\langchain\\lib\\site-packages (from ragas) (0.3.24)\n",
      "Requirement already satisfied: langchain-community in c:\\users\\user\\miniconda3\\envs\\langchain\\lib\\site-packages (from ragas) (0.3.11)\n",
      "Requirement already satisfied: langchain_openai in c:\\users\\user\\miniconda3\\envs\\langchain\\lib\\site-packages (from ragas) (0.2.12)\n",
      "Requirement already satisfied: nest-asyncio in c:\\users\\user\\miniconda3\\envs\\langchain\\lib\\site-packages (from ragas) (1.6.0)\n",
      "Collecting appdirs (from ragas)\n",
      "  Downloading appdirs-1.4.4-py2.py3-none-any.whl.metadata (9.0 kB)\n",
      "Requirement already satisfied: pydantic>=2 in c:\\users\\user\\miniconda3\\envs\\langchain\\lib\\site-packages (from ragas) (2.9.2)\n",
      "Requirement already satisfied: openai>1 in c:\\users\\user\\miniconda3\\envs\\langchain\\lib\\site-packages (from ragas) (1.57.0)\n",
      "Collecting pysbd>=0.3.4 (from ragas)\n",
      "  Downloading pysbd-0.3.4-py3-none-any.whl.metadata (6.1 kB)\n",
      "Collecting diskcache>=5.6.3 (from ragas)\n",
      "  Downloading diskcache-5.6.3-py3-none-any.whl.metadata (20 kB)\n",
      "Requirement already satisfied: anyio<5,>=3.5.0 in c:\\users\\user\\miniconda3\\envs\\langchain\\lib\\site-packages (from openai>1->ragas) (4.7.0)\n",
      "Requirement already satisfied: distro<2,>=1.7.0 in c:\\users\\user\\miniconda3\\envs\\langchain\\lib\\site-packages (from openai>1->ragas) (1.9.0)\n",
      "Requirement already satisfied: httpx<1,>=0.23.0 in c:\\users\\user\\miniconda3\\envs\\langchain\\lib\\site-packages (from openai>1->ragas) (0.27.2)\n",
      "Requirement already satisfied: jiter<1,>=0.4.0 in c:\\users\\user\\miniconda3\\envs\\langchain\\lib\\site-packages (from openai>1->ragas) (0.8.0)\n",
      "Requirement already satisfied: sniffio in c:\\users\\user\\miniconda3\\envs\\langchain\\lib\\site-packages (from openai>1->ragas) (1.3.1)\n",
      "Requirement already satisfied: tqdm>4 in c:\\users\\user\\miniconda3\\envs\\langchain\\lib\\site-packages (from openai>1->ragas) (4.67.1)\n",
      "Requirement already satisfied: typing-extensions<5,>=4.11 in c:\\users\\user\\miniconda3\\envs\\langchain\\lib\\site-packages (from openai>1->ragas) (4.12.2)\n",
      "Requirement already satisfied: annotated-types>=0.6.0 in c:\\users\\user\\miniconda3\\envs\\langchain\\lib\\site-packages (from pydantic>=2->ragas) (0.7.0)\n",
      "Requirement already satisfied: pydantic-core==2.23.4 in c:\\users\\user\\miniconda3\\envs\\langchain\\lib\\site-packages (from pydantic>=2->ragas) (2.23.4)\n",
      "Requirement already satisfied: humanfriendly>=9.1 in c:\\users\\user\\miniconda3\\envs\\langchain\\lib\\site-packages (from coloredlogs->onnxruntime) (10.0)\n",
      "Requirement already satisfied: filelock in c:\\users\\user\\miniconda3\\envs\\langchain\\lib\\site-packages (from datasets->ragas) (3.16.1)\n",
      "Requirement already satisfied: pyarrow>=15.0.0 in c:\\users\\user\\miniconda3\\envs\\langchain\\lib\\site-packages (from datasets->ragas) (18.1.0)\n",
      "Collecting dill<0.3.9,>=0.3.0 (from datasets->ragas)\n",
      "  Downloading dill-0.3.8-py3-none-any.whl.metadata (10 kB)\n",
      "Requirement already satisfied: pandas in c:\\users\\user\\miniconda3\\envs\\langchain\\lib\\site-packages (from datasets->ragas) (2.2.3)\n",
      "Requirement already satisfied: requests>=2.32.2 in c:\\users\\user\\miniconda3\\envs\\langchain\\lib\\site-packages (from datasets->ragas) (2.32.3)\n",
      "Collecting xxhash (from datasets->ragas)\n",
      "  Downloading xxhash-3.5.0-cp311-cp311-win_amd64.whl.metadata (13 kB)\n",
      "Collecting multiprocess<0.70.17 (from datasets->ragas)\n",
      "  Downloading multiprocess-0.70.16-py311-none-any.whl.metadata (7.2 kB)\n",
      "Collecting fsspec<=2024.9.0,>=2023.1.0 (from fsspec[http]<=2024.9.0,>=2023.1.0->datasets->ragas)\n",
      "  Downloading fsspec-2024.9.0-py3-none-any.whl.metadata (11 kB)\n",
      "Requirement already satisfied: aiohttp in c:\\users\\user\\miniconda3\\envs\\langchain\\lib\\site-packages (from datasets->ragas) (3.11.10)\n",
      "Requirement already satisfied: huggingface-hub>=0.23.0 in c:\\users\\user\\miniconda3\\envs\\langchain\\lib\\site-packages (from datasets->ragas) (0.26.5)\n",
      "Requirement already satisfied: pyyaml>=5.1 in c:\\users\\user\\miniconda3\\envs\\langchain\\lib\\site-packages (from datasets->ragas) (6.0.2)\n",
      "Requirement already satisfied: SQLAlchemy<3,>=1.4 in c:\\users\\user\\miniconda3\\envs\\langchain\\lib\\site-packages (from langchain->ragas) (2.0.36)\n",
      "Requirement already satisfied: langchain-text-splitters<0.4.0,>=0.3.0 in c:\\users\\user\\miniconda3\\envs\\langchain\\lib\\site-packages (from langchain->ragas) (0.3.2)\n",
      "Requirement already satisfied: langsmith<0.3,>=0.1.17 in c:\\users\\user\\miniconda3\\envs\\langchain\\lib\\site-packages (from langchain->ragas) (0.1.147)\n",
      "Requirement already satisfied: tenacity!=8.4.0,<10,>=8.1.0 in c:\\users\\user\\miniconda3\\envs\\langchain\\lib\\site-packages (from langchain->ragas) (9.0.0)\n",
      "Requirement already satisfied: jsonpatch<2.0,>=1.33 in c:\\users\\user\\miniconda3\\envs\\langchain\\lib\\site-packages (from langchain-core->ragas) (1.33)\n",
      "Requirement already satisfied: dataclasses-json<0.7,>=0.5.7 in c:\\users\\user\\miniconda3\\envs\\langchain\\lib\\site-packages (from langchain-community->ragas) (0.6.7)\n",
      "Requirement already satisfied: httpx-sse<0.5.0,>=0.4.0 in c:\\users\\user\\miniconda3\\envs\\langchain\\lib\\site-packages (from langchain-community->ragas) (0.4.0)\n",
      "Requirement already satisfied: pydantic-settings<3.0.0,>=2.4.0 in c:\\users\\user\\miniconda3\\envs\\langchain\\lib\\site-packages (from langchain-community->ragas) (2.6.1)\n",
      "Requirement already satisfied: regex>=2022.1.18 in c:\\users\\user\\miniconda3\\envs\\langchain\\lib\\site-packages (from tiktoken->ragas) (2024.11.6)\n",
      "Requirement already satisfied: mpmath<1.4,>=1.1.0 in c:\\users\\user\\miniconda3\\envs\\langchain\\lib\\site-packages (from sympy->onnxruntime) (1.3.0)\n",
      "Requirement already satisfied: aiohappyeyeballs>=2.3.0 in c:\\users\\user\\miniconda3\\envs\\langchain\\lib\\site-packages (from aiohttp->datasets->ragas) (2.4.4)\n",
      "Requirement already satisfied: aiosignal>=1.1.2 in c:\\users\\user\\miniconda3\\envs\\langchain\\lib\\site-packages (from aiohttp->datasets->ragas) (1.3.1)\n",
      "Requirement already satisfied: attrs>=17.3.0 in c:\\users\\user\\miniconda3\\envs\\langchain\\lib\\site-packages (from aiohttp->datasets->ragas) (24.2.0)\n",
      "Requirement already satisfied: frozenlist>=1.1.1 in c:\\users\\user\\miniconda3\\envs\\langchain\\lib\\site-packages (from aiohttp->datasets->ragas) (1.5.0)\n",
      "Requirement already satisfied: multidict<7.0,>=4.5 in c:\\users\\user\\miniconda3\\envs\\langchain\\lib\\site-packages (from aiohttp->datasets->ragas) (6.1.0)\n",
      "Requirement already satisfied: propcache>=0.2.0 in c:\\users\\user\\miniconda3\\envs\\langchain\\lib\\site-packages (from aiohttp->datasets->ragas) (0.2.1)\n",
      "Requirement already satisfied: yarl<2.0,>=1.17.0 in c:\\users\\user\\miniconda3\\envs\\langchain\\lib\\site-packages (from aiohttp->datasets->ragas) (1.18.3)\n",
      "Requirement already satisfied: idna>=2.8 in c:\\users\\user\\miniconda3\\envs\\langchain\\lib\\site-packages (from anyio<5,>=3.5.0->openai>1->ragas) (3.10)\n",
      "Requirement already satisfied: marshmallow<4.0.0,>=3.18.0 in c:\\users\\user\\miniconda3\\envs\\langchain\\lib\\site-packages (from dataclasses-json<0.7,>=0.5.7->langchain-community->ragas) (3.23.1)\n",
      "Requirement already satisfied: typing-inspect<1,>=0.4.0 in c:\\users\\user\\miniconda3\\envs\\langchain\\lib\\site-packages (from dataclasses-json<0.7,>=0.5.7->langchain-community->ragas) (0.9.0)\n",
      "Requirement already satisfied: certifi in c:\\users\\user\\miniconda3\\envs\\langchain\\lib\\site-packages (from httpx<1,>=0.23.0->openai>1->ragas) (2024.8.30)\n",
      "Requirement already satisfied: httpcore==1.* in c:\\users\\user\\miniconda3\\envs\\langchain\\lib\\site-packages (from httpx<1,>=0.23.0->openai>1->ragas) (1.0.7)\n",
      "Requirement already satisfied: h11<0.15,>=0.13 in c:\\users\\user\\miniconda3\\envs\\langchain\\lib\\site-packages (from httpcore==1.*->httpx<1,>=0.23.0->openai>1->ragas) (0.14.0)\n",
      "Requirement already satisfied: pyreadline3 in c:\\users\\user\\miniconda3\\envs\\langchain\\lib\\site-packages (from humanfriendly>=9.1->coloredlogs->onnxruntime) (3.5.4)\n",
      "Requirement already satisfied: jsonpointer>=1.9 in c:\\users\\user\\miniconda3\\envs\\langchain\\lib\\site-packages (from jsonpatch<2.0,>=1.33->langchain-core->ragas) (3.0.0)\n",
      "Requirement already satisfied: orjson<4.0.0,>=3.9.14 in c:\\users\\user\\miniconda3\\envs\\langchain\\lib\\site-packages (from langsmith<0.3,>=0.1.17->langchain->ragas) (3.10.12)\n",
      "Requirement already satisfied: requests-toolbelt<2.0.0,>=1.0.0 in c:\\users\\user\\miniconda3\\envs\\langchain\\lib\\site-packages (from langsmith<0.3,>=0.1.17->langchain->ragas) (1.0.0)\n",
      "Requirement already satisfied: python-dotenv>=0.21.0 in c:\\users\\user\\miniconda3\\envs\\langchain\\lib\\site-packages (from pydantic-settings<3.0.0,>=2.4.0->langchain-community->ragas) (1.0.1)\n",
      "Requirement already satisfied: charset-normalizer<4,>=2 in c:\\users\\user\\miniconda3\\envs\\langchain\\lib\\site-packages (from requests>=2.32.2->datasets->ragas) (3.4.0)\n",
      "Requirement already satisfied: urllib3<3,>=1.21.1 in c:\\users\\user\\miniconda3\\envs\\langchain\\lib\\site-packages (from requests>=2.32.2->datasets->ragas) (2.2.3)\n",
      "Requirement already satisfied: greenlet!=0.4.17 in c:\\users\\user\\miniconda3\\envs\\langchain\\lib\\site-packages (from SQLAlchemy<3,>=1.4->langchain->ragas) (3.1.1)\n",
      "Requirement already satisfied: colorama in c:\\users\\user\\miniconda3\\envs\\langchain\\lib\\site-packages (from tqdm>4->openai>1->ragas) (0.4.6)\n",
      "Requirement already satisfied: python-dateutil>=2.8.2 in c:\\users\\user\\miniconda3\\envs\\langchain\\lib\\site-packages (from pandas->datasets->ragas) (2.9.0.post0)\n",
      "Requirement already satisfied: pytz>=2020.1 in c:\\users\\user\\miniconda3\\envs\\langchain\\lib\\site-packages (from pandas->datasets->ragas) (2024.2)\n",
      "Requirement already satisfied: tzdata>=2022.7 in c:\\users\\user\\miniconda3\\envs\\langchain\\lib\\site-packages (from pandas->datasets->ragas) (2024.2)\n",
      "Requirement already satisfied: six>=1.5 in c:\\users\\user\\miniconda3\\envs\\langchain\\lib\\site-packages (from python-dateutil>=2.8.2->pandas->datasets->ragas) (1.17.0)\n",
      "Requirement already satisfied: mypy-extensions>=0.3.0 in c:\\users\\user\\miniconda3\\envs\\langchain\\lib\\site-packages (from typing-inspect<1,>=0.4.0->dataclasses-json<0.7,>=0.5.7->langchain-community->ragas) (1.0.0)\n",
      "Downloading ragas-0.2.9-py3-none-any.whl (175 kB)\n",
      "Downloading diskcache-5.6.3-py3-none-any.whl (45 kB)\n",
      "Downloading pysbd-0.3.4-py3-none-any.whl (71 kB)\n",
      "Downloading appdirs-1.4.4-py2.py3-none-any.whl (9.6 kB)\n",
      "Downloading datasets-3.2.0-py3-none-any.whl (480 kB)\n",
      "Downloading dill-0.3.8-py3-none-any.whl (116 kB)\n",
      "Downloading fsspec-2024.9.0-py3-none-any.whl (179 kB)\n",
      "Downloading multiprocess-0.70.16-py311-none-any.whl (143 kB)\n",
      "Downloading xxhash-3.5.0-cp311-cp311-win_amd64.whl (30 kB)\n",
      "Installing collected packages: appdirs, xxhash, pysbd, fsspec, diskcache, dill, multiprocess, datasets, ragas\n",
      "  Attempting uninstall: fsspec\n",
      "    Found existing installation: fsspec 2024.10.0\n",
      "    Uninstalling fsspec-2024.10.0:\n",
      "      Successfully uninstalled fsspec-2024.10.0\n",
      "Successfully installed appdirs-1.4.4 datasets-3.2.0 dill-0.3.8 diskcache-5.6.3 fsspec-2024.9.0 multiprocess-0.70.16 pysbd-0.3.4 ragas-0.2.9 xxhash-3.5.0\n"
     ]
    },
    {
     "name": "stderr",
     "output_type": "stream",
     "text": [
      "ERROR: pip's dependency resolver does not currently take into account all the packages that are installed. This behaviour is the source of the following dependency conflicts.\n",
      "transformers 4.47.0 requires tokenizers<0.22,>=0.21, but you have tokenizers 0.20.3 which is incompatible.\n"
     ]
    }
   ],
   "source": [
    "!pip install onnxruntime ragas"
   ]
  },
  {
   "cell_type": "code",
   "execution_count": 15,
   "metadata": {},
   "outputs": [
    {
     "data": {
      "text/plain": [
       "True"
      ]
     },
     "execution_count": 15,
     "metadata": {},
     "output_type": "execute_result"
    }
   ],
   "source": [
    "from langchain_community.document_loaders import TextLoader\n",
    "from langchain_text_splitters import RecursiveCharacterTextSplitter\n",
    "from langchain_chroma import Chroma\n",
    "\n",
    "from langchain_openai import ChatOpenAI, OpenAIEmbeddings\n",
    "from langchain.prompts import PromptTemplate, MessagesPlaceholder, ChatPromptTemplate\n",
    "from langchain_core.output_parsers import JsonOutputParser,StrOutputParser\n",
    "from langchain.memory import ConversationBufferMemory\n",
    "\n",
    "from langchain.chains import LLMChain\n",
    "from langchain_core.runnables import RunnablePassthrough, RunnableLambda\n",
    "from langchain_core.documents import Document\n",
    "from langchain_community.tools import TavilySearchResults\n",
    "from langchain_core.runnables.history import RunnableWithMessageHistory, RunnableLambda\n",
    "\n",
    "from ragas import EvaluationDataset, RunConfig, evaluate\n",
    "from ragas.metrics import (\n",
    "    LLMContextRecall, Faithfulness, LLMContextPrecisionWithReference, AnswerRelevancy\n",
    ")\n",
    "from ragas.llms import LangchainLLMWrapper\n",
    "from ragas.embeddings import LangchainEmbeddingsWrapper\n",
    "\n",
    "from pydantic import BaseModel, Field\n",
    "\n",
    "from textwrap import dedent\n",
    "from operator import itemgetter\n",
    "from pprint import pprint\n",
    "import json\n",
    "import random\n",
    "import re\n",
    "\n",
    "from langchain_core.tools import tool\n",
    "from itertools import chain\n",
    "\n",
    "from dotenv import load_dotenv\n",
    "load_dotenv()"
   ]
  },
  {
   "cell_type": "code",
   "execution_count": 17,
   "metadata": {},
   "outputs": [
    {
     "ename": "AttributeError",
     "evalue": "'list' object has no attribute 'items'",
     "output_type": "error",
     "traceback": [
      "\u001b[1;31m---------------------------------------------------------------------------\u001b[0m",
      "\u001b[1;31mAttributeError\u001b[0m                            Traceback (most recent call last)",
      "Cell \u001b[1;32mIn[17], line 10\u001b[0m\n\u001b[0;32m      8\u001b[0m \u001b[38;5;66;03m# 문서 리스트 생성 (각 정책 항목을 문자열로 변환)\u001b[39;00m\n\u001b[0;32m      9\u001b[0m docs \u001b[38;5;241m=\u001b[39m []\n\u001b[1;32m---> 10\u001b[0m \u001b[38;5;28;01mfor\u001b[39;00m policy_name, details \u001b[38;5;129;01min\u001b[39;00m \u001b[43mjson_data\u001b[49m\u001b[38;5;241;43m.\u001b[39;49m\u001b[43mitems\u001b[49m():\n\u001b[0;32m     11\u001b[0m     \u001b[38;5;66;03m# 정책 이름과 상세 내용을 문자열로 합침\u001b[39;00m\n\u001b[0;32m     12\u001b[0m     policy_content \u001b[38;5;241m=\u001b[39m \u001b[38;5;124mf\u001b[39m\u001b[38;5;124m\"\u001b[39m\u001b[38;5;124m정책 이름: \u001b[39m\u001b[38;5;132;01m{\u001b[39;00mpolicy_name\u001b[38;5;132;01m}\u001b[39;00m\u001b[38;5;130;01m\\n\u001b[39;00m\u001b[38;5;124m\"\u001b[39m\n\u001b[0;32m     13\u001b[0m     \u001b[38;5;28;01mfor\u001b[39;00m detail \u001b[38;5;129;01min\u001b[39;00m details:\n",
      "\u001b[1;31mAttributeError\u001b[0m: 'list' object has no attribute 'items'"
     ]
    }
   ],
   "source": [
    "# 데이터 파일 경로\n",
    "DOC_PATH = '../data/policy_result.json'\n",
    "\n",
    "# 파일 로딩\n",
    "with open(DOC_PATH, 'r', encoding='utf-8') as file:\n",
    "    json_data = json.load(file)\n",
    "\n",
    "# 문서 리스트 생성 (각 정책 항목을 문자열로 변환)\n",
    "docs = []\n",
    "for policy_name, details in json_data.items():\n",
    "    # 정책 이름과 상세 내용을 문자열로 합침\n",
    "    policy_content = f\"정책 이름: {policy_name}\\n\"\n",
    "    for detail in details:\n",
    "        policy_content += f\"{detail}\\n\"\n",
    "    docs.append(policy_content.strip())\n",
    "\n",
    "# docs 내용 확인\n",
    "len(docs), docs[:1]  # 문서 개수와 첫 번째 문서 내용 출력\n",
    "# docs"
   ]
  },
  {
   "cell_type": "markdown",
   "metadata": {},
   "source": [
    "**질문 -답변 context 생성**   "
   ]
  },
  {
   "cell_type": "code",
   "execution_count": null,
   "metadata": {},
   "outputs": [],
   "source": [
    "### 평가 데이터로 사용할 context 추출\n",
    "total_samples = 3\n",
    "\n",
    "# index shuffle 후 total_samples만큼 context 추출\n",
    "idx_list = list(range(len(docs)))\n",
    "random.shuffle(idx_list)\n",
    "\n",
    "eval_context_list = []\n",
    "while len(eval_context_list) < total_samples:\n",
    "    idx = idx_list.pop()\n",
    "    context = docs[idx]\n",
    "    if len(context) > 50: # 100글자 이상인 text만 사용\n",
    "        eval_context_list.append(context)\n",
    "\n",
    "len(eval_context_list)"
   ]
  },
  {
   "cell_type": "code",
   "execution_count": null,
   "metadata": {},
   "outputs": [],
   "source": [
    "# user_input: 질문\n",
    "# ####### retrieved_contexts: 검색된 문서의 내용(page_content)들\n",
    "# qa_context: 질문 답변 쌍을 만들 때 참고한 context\n",
    "        # retrieved_contexts: 검색된 문서의 내용은 실제 RAG 실행시 넣는다.\n",
    "        # response: 모델의 답변 - 실제 RAG 실행시 넣는다.\n",
    "# reference: 정답\n",
    "class EvalDatasetSchema(BaseModel):\n",
    "    user_input: str = Field(..., title=\"질문(question)\")\n",
    "    qa_context: list[str] = Field(..., title=\"질문-답변 쌍을 만들 때 참조한 context.\")\n",
    "    reference: str = Field(..., title=\"질문의 정답(ground truth)\")\n",
    "\n",
    "parser = JsonOutputParser(pydantic_object=EvalDatasetSchema)\n",
    "\n",
    "eval_model = ChatOpenAI(model=\"gpt-4o\")\n",
    "\n",
    "prompt_template = PromptTemplate.from_template(\n",
    "    template=dedent(\"\"\"\n",
    "        당신은 RAG 평가를 위해 질문과 정답 쌍을 생성하는 인공지능 비서입니다.\n",
    "        해당 RAG는 사용자에게 각 정책에 대한 질의응답을 위해 만들어졌으니 이를 참고하여 평가 질문과 정답 쌍을 생성하세요.\n",
    "        주어진 [Context]를 활용해서 최대한 다양한 질문-정답 쌍을 만들어 주세요.\n",
    "        다음 [Context] 에 문서가 주어지면 해당 문서를 기반으로 {num_questions}개 질문-정답 쌍을 생성하세요.\n",
    "\n",
    "        질문과 정답을 생성한 후 아래의 출력 형식 GUIDE 에 맞게 생성합니다.\n",
    "        질문은 반드시 [Context] 문서에 있는 정보를 바탕으로 생성해야 합니다. [Context]에 없는 내용을 가지고 질문-정답을 절대 만들면 안됩니다.\n",
    "        질문은 간결하게 작성합니다.\n",
    "\n",
    "        질문을 만들 때 반드시 각 [Context] 문서의 \"정책 이름\"을 질문에 포함해야합니다.\n",
    "        예시는 \"경남 저소득 증장애인 집정리 범사업을 주관하는 기관은 어디인가요?\" 라는 형식의 질문 생성입니다.\n",
    "\n",
    "        하나의 질문에는 한 가지의 내용만 작성합니다.\n",
    "        질문을 만들 때 \"제공된 문맥에서\", \"문서에 설명된 대로\", \"주어진 문서에 따라\" 또는 이와 유사한 말을 하지 마세요.\n",
    "        정답은 반드시 [Context]에 있는 정보를 바탕으로 작성합니다. 없는 내용을 추가하지 않습니다.\n",
    "        질문과 정답을 만들고 그 내용이 [Context] 에 있는 항목인지 다시 한번 확인합니다.\n",
    "\n",
    "        어떤 형식으로 만들었든 생성된 질문-답변 쌍은 반드시 dictionary 형태로 정의하고 list로 묶어서 반환해야 합니다.\n",
    "        어떤 형식으로 만들었든 질문-답변 쌍은 반드시 {num_questions}개를 만들어야 합니다.\n",
    "\n",
    "        출력 형식: {format_instructions}\n",
    "\n",
    "        [Context]\n",
    "        {context}\n",
    "        \"\"\"\n",
    "    ),\n",
    "    partial_variables={\"format_instructions\":parser.get_format_instructions()}\n",
    ")\n",
    "# print(prompt_template.template)\n",
    "\n",
    "eval_dataset_generator = prompt_template | eval_model | parser"
   ]
  },
  {
   "cell_type": "code",
   "execution_count": null,
   "metadata": {},
   "outputs": [],
   "source": [
    "# eval_context_list 로 만들기\n",
    "\n",
    "eval_data_list = []\n",
    "num_questions = 3\n",
    "for context in eval_context_list:\n",
    "    _eval_data_list = eval_dataset_generator.invoke({\"context\":context, \"num_questions\":num_questions})\n",
    "    eval_data_list.extend(_eval_data_list)"
   ]
  },
  {
   "cell_type": "code",
   "execution_count": null,
   "metadata": {},
   "outputs": [],
   "source": [
    "import pandas as pd\n",
    "eval_df = pd.DataFrame(eval_data_list)\n",
    "eval_df.shape\n",
    "eval_df"
   ]
  },
  {
   "cell_type": "markdown",
   "metadata": {},
   "source": [
    "**파일 저장**    \n",
    "- csv 파일로 저장"
   ]
  },
  {
   "cell_type": "code",
   "execution_count": null,
   "metadata": {},
   "outputs": [],
   "source": [
    "# csv 파일로 저장\n",
    "output_path = 'eval_question_sample.csv'  # 원하는 경로로 변경 가능합니다.\n",
    "eval_df.to_csv(output_path, index=False, encoding='utf-8')\n",
    "\n",
    "# 저장된 파일 확인\n",
    "print(f\"CSV 파일이 {output_path}에 저장되었습니다.\")"
   ]
  },
  {
   "cell_type": "markdown",
   "metadata": {},
   "source": [
    "### 5) Chain 구성"
   ]
  },
  {
   "cell_type": "code",
   "execution_count": null,
   "metadata": {},
   "outputs": [],
   "source": [
    "# Vector Store\n",
    "embedding_model = OpenAIEmbeddings(model=\"text-embedding-ada-002\")  # Vector DB와 동일한 1536 차원 모델 사용\n",
    "COLLECTION_NAME = \"policy\"\n",
    "PERSIST_DIRECTORY = \"data/vector_store/policy\"\n",
    "# vector store 연결\n",
    "vector_store = Chroma(\n",
    "    embedding_function=embedding_model,\n",
    "    collection_name=COLLECTION_NAME,\n",
    "    persist_directory=PERSIST_DIRECTORY\n",
    ")"
   ]
  },
  {
   "cell_type": "code",
   "execution_count": null,
   "metadata": {},
   "outputs": [],
   "source": [
    "vector_store.get()"
   ]
  },
  {
   "cell_type": "code",
   "execution_count": null,
   "metadata": {},
   "outputs": [],
   "source": [
    "from operator import itemgetter\n",
    "\n",
    "# Retriever 설정 - 검색 설정\n",
    "retriever = vector_store.as_retriever(\n",
    "    search_type=\"mmr\",\n",
    "    search_kwargs={\n",
    "        \"k\": 5,\n",
    "        \"fetch_k\": 10,\n",
    "        \"lambda_mult\": 0.2\n",
    "    }\n",
    ")\n",
    "\n",
    "# LLM 구성\n",
    "messages = [\n",
    "            (\"ai\", \"\"\"\n",
    "            당신은 유능한 청년지원정책 추천 전문 AI 챗봇입니다.\n",
    "            주요 목표는 사용자의 요청에 따라 알맞는 청년지원정책을 추천하는 것입니다.\n",
    "            \n",
    "            다음은 답변을 작성하기 위한 지침(guidelines)입니다:\n",
    "            1. 주어진 context(데이터 및 검색 결과)를 바탕으로만 대답해주세요.\n",
    "            2. 모든 답변은 학습된 정책 데이터를 바탕으로 반드시 사용자가 물어본 질문에 대한 정확한 정보만 작성하세요.\n",
    "            3. 예를 들어, 사용자가 \"서울시 주거 정책을 알려줘\" 라고 질문했다면 \"서울 시민\"이 지원대상이 되는 답변만을 생성해야하며 \"고양시\"나 \"경남\" 지역에서 시행 중인 정책을 답변으로 가져와서는 안됩니다.\n",
    "            4. 답변에 불필요한 정보는 제공하지 마세요.\n",
    "            5. 해당 데이터에 없는 내용은 검색해서 대답세요. 다만, 검색 도구(TavilySearch 등)에서도 찾을 수 없는 경우, 답변을 추측하거나 임의로 생성하지 말고 \"잘 모르겠습니다.\"라고 답변하세요.검색으로도 정보를 찾을 수 없을 경우 답변을 추측하거나 임의로 생성하지말고, \"잘 모르겠습니다.\"라고 답변하세요.\n",
    "            6. 답변은 체계적이고, 비전문가 사용자도 이해하기 쉽게 답변을 작성하세요.\n",
    "            7. 항상 최신의 정확한 정보를 제공하기 위해 노력하세요.\n",
    "            8. 질문을 완전히 이해하지 못할 경우, 구체적인 질문을 다시 받을 수 있도록 사용자에게 유도 질문을 하세요.     \n",
    "            9. 답변 스타일은 간결하고 논리적으로 작성하세요. 필요시, 리스트 형식으로 정리하세요.\n",
    "            10. 답변이 사용자가 질문한 내용에 부합하는지 다시 한번 확인하세요.\n",
    "            11. 질문을 만들 때 \"제공된 문맥에서\", \"문서에 설명된 대로\", \"주어진 문서에 따라\" 또는 이와 유사한 말을 하지 마세요.\n",
    "            \n",
    "            위 지침을 따라 사용자의 요청에 맞는 적절한 청년지원정책 정보를 제공합니다.\n",
    "\n",
    "            {context}\")\"\"\"),\n",
    "            MessagesPlaceholder(\"history\"), \n",
    "            (\"human\", \"{question}\")\n",
    "]\n",
    "\n",
    "prompt_template = ChatPromptTemplate(messages)\n",
    "model = ChatOpenAI(model='gpt-4o', temperature=0)\n",
    "\n",
    "query = \"user_input\"\n",
    "\n",
    "# search_policy tool 정의\n",
    "@tool\n",
    "def search_policy(query:str) -> list[Document]:\n",
    "    \"\"\"\n",
    "    Vector Store에 저장된 청년 지원 정책과 해당 정책의 정보를 검색한다.\n",
    "    이 도구는 청년 지원 정책 관련 질문에 대해 실행한다.\n",
    "    \"\"\"\n",
    "    result = retriever.invoke(query) \n",
    "    if len(result): \n",
    "        return result\n",
    "    else:\n",
    "        return [Document(page_content = \"검색 결과가 없습니다.\")]\n",
    "    \n",
    "    # TavilySearch web 검색\n",
    "tavily_search = TavilySearchResults(max_results=2)\n",
    "\n",
    "# 최종 응답 생성\n",
    "def generate_final_input(query, result_from_db, result_from_web):\n",
    "    combined_context = [\n",
    "        f\"저장된 데이터에서 찾은 정보:\\n{result_from_db}\\n\",\n",
    "        \"실시간 웹 검색에서 확인된 정보:\\n\"\n",
    "    ]\n",
    "\n",
    "    if isinstance(result_from_web, list):\n",
    "        combined_context.extend(\n",
    "            [f\"[{idx}] {result.get('title', '제목 없음')}: {result.get('content', '내용 없음')}\"\n",
    "            for idx, result in enumerate(result_from_web, start=1)]\n",
    "        )\n",
    "    else:\n",
    "        combined_context.append(\"웹 검색 결과를 처리할 수 없습니다.\")\n",
    "    \n",
    "    combined_context = \"\\n\".join(combined_context)\n",
    "    return f\"{combined_context}를 참고해서 {query}에 대한 답변 생성\"\n",
    "\n",
    "\n",
    "# 실행에 필요한 인풋 설정\n",
    "runnable = {\n",
    "    'context': RunnableLambda(lambda x: retriever.invoke(x['question'])),\n",
    "    'question': itemgetter(\"question\"),\n",
    "    'history': itemgetter('history')\n",
    "} | prompt_template | model | StrOutputParser()\n",
    "\n",
    "# chain 설정\n",
    "chain = RunnableWithMessageHistory(\n",
    "    runnable=runnable,\n",
    "    get_session_history=lambda session_id: memory.chat_memory,\n",
    "    input_messages_key=\"question\",\n",
    "    history_messages_key=\"history\"\n",
    ")\n",
    "\n",
    "# DB 검색\n",
    "result_from_db = search_policy(query)\n",
    "\n",
    "# Tavily 검색(web 검색)\n",
    "try:\n",
    "    result_from_web = tavily_search.invoke(query)\n",
    "    if not result_from_web or not isinstance(result_from_web, list):\n",
    "        raise ValueError(\"유효하지 않은 Tavily 검색 결과\")\n",
    "except Exception as e:\n",
    "    result_from_web = [{\"title\": \"오류 발생\", \"content\": str(e)}]\n",
    "\n",
    "# 최종 응답 생성\n",
    "final_model = ChatOpenAI(model=\"gpt-4o-mini\")\n",
    "final_input = generate_final_input(query, result_from_db, result_from_web)\n",
    "final_response = final_model.invoke(final_input)"
   ]
  },
  {
   "cell_type": "code",
   "execution_count": null,
   "metadata": {},
   "outputs": [],
   "source": [
    "# context들과 모델답변을 응답 받아 eval_dataset(eval_df)에 추가.\n",
    "\n",
    "context_list = []\n",
    "response_list = []\n",
    "\n",
    "for user_input in eval_df['user_input']:\n",
    "    # 정책 검색\n",
    "    result_from_db = search_policy.invoke(user_input)\n",
    "    result_from_web = tavily_search.invoke(user_input)\n",
    "    \n",
    "    final_input = generate_final_input(user_input, result_from_db, result_from_web)\n",
    "    final_response = final_model.invoke(final_input)\n",
    "    \n",
    "    context = [f\"{result_from_db}, {result_from_web}\"]\n",
    "    context_list.append(context)\n",
    "    response_list.append(final_response)\n"
   ]
  },
  {
   "cell_type": "code",
   "execution_count": null,
   "metadata": {},
   "outputs": [],
   "source": [
    "# context 추가\n",
    "eval_df[\"retrieved_contexts\"] = context_list\n",
    "\n",
    "# 정답 추가\n",
    "eval_df[\"response\"] = response_list\n",
    "\n",
    "# csv 파일로 저장\n",
    "output_path = 'finaaaaal_question.csv'  # 원하는 경로로 변경 가능합니다.\n",
    "eval_df.to_csv(output_path, index=False, encoding='utf-8')\n",
    "\n",
    "# 저장된 파일 확인\n",
    "print(f\"CSV 파일이 {output_path}에 저장되었습니다.\")"
   ]
  },
  {
   "cell_type": "code",
   "execution_count": null,
   "metadata": {},
   "outputs": [],
   "source": [
    "# Dataframe으로 부터 EvalDataset 생성\n",
    "eval_dataset = EvaluationDataset.from_pandas(eval_df)\n",
    "eval_dataset"
   ]
  },
  {
   "cell_type": "code",
   "execution_count": null,
   "metadata": {},
   "outputs": [],
   "source": [
    "eval_df = pd.DataFrame()\n",
    "eval_df[\"retrieved_contexts\"] = context_list\n",
    "\n",
    "\n",
    "response_list = [str(response.content) if hasattr(response, 'content') else str(response) for response in response_list]\n",
    "eval_df[\"response\"] = response_list\n",
    "\n",
    "\n",
    "output_path = 'finaaaaal_question.csv'  # 원하는 경로로 변경 가능합니다.\n",
    "eval_df.to_csv(output_path, index=False, encoding='utf-8')\n",
    "print(f\"CSV 파일이 {output_path}에 저장되었습니다.\")\n",
    "\n",
    "\n",
    "from ragas import EvaluationDataset  # 적절한 라이브러리로 변경하세요\n",
    "\n",
    "eval_dataset = EvaluationDataset.from_pandas(eval_df)\n",
    "print(eval_dataset)"
   ]
  },
  {
   "cell_type": "markdown",
   "metadata": {},
   "source": [
    "# 04. 성능 평가"
   ]
  },
  {
   "cell_type": "markdown",
   "metadata": {},
   "source": [
    "**모델 설정**"
   ]
  },
  {
   "cell_type": "code",
   "execution_count": null,
   "metadata": {},
   "outputs": [],
   "source": [
    "model_name = \"gpt-4o\"\n",
    "model = ChatOpenAI(model=model_name)\n",
    "eval_llm = LangchainLLMWrapper(model)\n",
    "\n",
    "embedding_model = OpenAIEmbeddings(model=\"text-embedding-3-large\")\n",
    "eval_embedding = LangchainEmbeddingsWrapper(embedding_model)"
   ]
  },
  {
   "cell_type": "markdown",
   "metadata": {},
   "source": [
    "**평가 기준**   \n",
    "- LLMContextRecall: 컨텍스트를 기반으로 정보를 재현한 능력을 측정   \n",
    "- LLMContextPrecisionWithReference: 문서의 정확하고 관련된 정보를 기반으로 답변을 생성했는지 평가   \n",
    "- Faithfulness: 문서의 내용에 얼마나 충실하게 답변했는지 평가   \n",
    "- AnswerRelevancy: 질문과 답변 간의 의미적 관련성을 측정   "
   ]
  },
  {
   "cell_type": "code",
   "execution_count": null,
   "metadata": {},
   "outputs": [],
   "source": [
    "run_config = RunConfig(\n",
    "    timeout=360,\n",
    "    max_retries=20,\n",
    "    max_wait=360,\n",
    "    max_workers=1\n",
    ")\n",
    "\n",
    "metrics1 = [\n",
    "    LLMContextRecall(llm=eval_llm),\n",
    "]\n",
    "metrics2 = [\n",
    "    LLMContextPrecisionWithReference(llm=eval_llm),\n",
    "]\n",
    "metrics3 = [\n",
    "    Faithfulness(llm=eval_llm),\n",
    "]\n",
    "metrics4 = [\n",
    "    AnswerRelevancy(llm=eval_llm, embeddings=eval_embedding)\n",
    "]"
   ]
  },
  {
   "cell_type": "code",
   "execution_count": null,
   "metadata": {},
   "outputs": [],
   "source": [
    "result1 = evaluate(dataset=eval_dataset, metrics=metrics1, run_config=run_config, batch_size=5)\n",
    "result1"
   ]
  },
  {
   "cell_type": "code",
   "execution_count": null,
   "metadata": {},
   "outputs": [],
   "source": [
    "result2 = evaluate(dataset=eval_dataset, metrics=metrics2, run_config=run_config, batch_size=5)\n",
    "result2"
   ]
  },
  {
   "cell_type": "code",
   "execution_count": null,
   "metadata": {},
   "outputs": [],
   "source": [
    "result3 = evaluate(dataset=eval_dataset, metrics=metrics3, run_config=run_config, batch_size=5)\n",
    "result3"
   ]
  },
  {
   "cell_type": "code",
   "execution_count": null,
   "metadata": {},
   "outputs": [],
   "source": [
    "result4 = evaluate(dataset=eval_dataset, metrics=metrics4, run_config=run_config)\n",
    "result4"
   ]
  }
 ],
 "metadata": {
  "kernelspec": {
   "display_name": "langchain",
   "language": "python",
   "name": "python3"
  },
  "language_info": {
   "codemirror_mode": {
    "name": "ipython",
    "version": 3
   },
   "file_extension": ".py",
   "mimetype": "text/x-python",
   "name": "python",
   "nbconvert_exporter": "python",
   "pygments_lexer": "ipython3",
   "version": "3.11.11"
  }
 },
 "nbformat": 4,
 "nbformat_minor": 2
}
