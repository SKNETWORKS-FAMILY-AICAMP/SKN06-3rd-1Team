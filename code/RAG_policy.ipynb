{
 "cells": [
  {
   "cell_type": "markdown",
   "metadata": {},
   "source": [
    "# 01. 데이터 수집"
   ]
  },
  {
   "attachments": {
    "open_api.png": {
     "image/png": "[encoded data removed]"
    }
   },
   "cell_type": "markdown",
   "metadata": {},
   "source": [
    "### 1) 정보 찾기\n",
    "\n",
    "Open API 인증을 요청했지만 아직 승인 받지 못함    \n",
    "\n",
    "  ![open_api.png](attachment:open_api.png)"
   ]
  },
  {
   "cell_type": "markdown",
   "metadata": {},
   "source": [
    "온통청년 (https://www.youthcenter.go.kr/youngPlcyUnif/youngPlcyUnifList.do) 크롤링 하기로 결정"
   ]
  },
  {
   "cell_type": "markdown",
   "metadata": {},
   "source": [
    "### 2) 크롤링\n",
    "\n",
    "**라이브러리 불러오기**"
   ]
  },
  {
   "cell_type": "code",
   "execution_count": 1,
   "metadata": {},
   "outputs": [],
   "source": [
    "import requests\n",
    "from bs4 import BeautifulSoup as bs\n",
    "import re\n",
    "import pickle\n",
    "import json\n",
    "import os"
   ]
  },
  {
   "cell_type": "markdown",
   "metadata": {},
   "source": [
    "**json,pickle 저장 및 불러오기 함수 정의**"
   ]
  },
  {
   "cell_type": "code",
   "execution_count": 2,
   "metadata": {},
   "outputs": [],
   "source": [
    "def save_pickle(path: str, file_name: str, data: list):\n",
    "    \"\"\"\n",
    "    데이터를 pickle 파일로 저장.\n",
    "    \"\"\"\n",
    "    os.makedirs(path, exist_ok=True)\n",
    "    with open(f\"{path}/{file_name}\", \"wb\") as f:\n",
    "        pickle.dump(data, f)\n",
    "\n",
    "def load_pickle(path: str) -> list:\n",
    "    \"\"\"\n",
    "    pickle 파일에서 데이터 불러오기.\n",
    "    \"\"\"\n",
    "    with open(path, \"rb\") as f:\n",
    "        return pickle.load(f)\n",
    "\n",
    "def save_json(path: str, file_name: str, data: list):\n",
    "    \"\"\"\n",
    "    데이터를 json 파일로 저장.\n",
    "    \"\"\"\n",
    "    os.makedirs(path, exist_ok=True)\n",
    "    with open(f\"{path}/{file_name}\", \"w\", encoding=\"utf-8\") as f:\n",
    "        json.dump(data, f, indent=4, ensure_ascii=False)\n",
    "\n",
    "def load_json(path: str) -> list:\n",
    "    \"\"\"\n",
    "    json 파일에서 데이터 불러오기.\n",
    "    \"\"\"\n",
    "    with open(path, \"r\", encoding=\"utf-8\") as f:\n",
    "        return json.load(f)\n"
   ]
  },
  {
   "cell_type": "markdown",
   "metadata": {},
   "source": [
    "**정책 ID 크롤링**\n",
    "- 목록 정렬: 1 페이지 - 60개 정책, 총 59 페이지.\n",
    "- 정책 모집 현황은 '진행중','상시','신청 마감'으로 3가지. `24년 12월 23일 기준`으로 `상시`, `진행중`인 정책들만 추출.\n",
    "   ```\n",
    "    <div class=\"badge\">\n",
    "      <span class=\"label green\">진행중</span>\n",
    "      <span class=\"cate\">주거분야</span>\n",
    "    </div>\n",
    "    ```\n",
    "- 각 정책의 링크가 아래와 같이 구성. id 부분에서 `dtlLink_`를 제외한 부분이 각 정책의 코드번호.\n",
    "  ```\n",
    "   <a href=\"#\"id=\"dtlLink_R2024011018628\"onclick=\"f_Detail('R2024011018628');\"class=\"tit\">청년 주택드림 청약통장</a>\n",
    "   ```\n",
    "- 1 페이지부터 59 페이지까지 각 페이지에 있는 정책들의 id만 list로 추출.\n"
   ]
  },
  {
   "cell_type": "code",
   "execution_count": 3,
   "metadata": {},
   "outputs": [],
   "source": [
    "def get_ids_with_state(page_num: int, url: str) -> list:\n",
    "    \"\"\"\n",
    "    청년 정책의 ID 수집.\n",
    "    Parameters:\n",
    "        page_num (int): 추출하려는 총 페이지 수\n",
    "        url (str): 추출 대상의 페이지 링크를 조합할 베이스 링크\n",
    "    Returns:\n",
    "        policy_id_list (list): 상시, 진행중인 정책의 ID를 list로 모아 반환합니다.\n",
    "    \"\"\"\n",
    "    policy_id_list = []\n",
    "    for i in range(1, page_num + 1):\n",
    "        response = requests.get(f\"{url}{i}\")\n",
    "        soup = bs(response.text, \"lxml\")\n",
    "        \n",
    "        badges = soup.select(\"div.badge\")\n",
    "        titles = soup.select(\"a.tit\")\n",
    "        organ = soup.select(\"div.organ-name\")\n",
    "        \n",
    "        for j in range(len(titles)):\n",
    "            badge = badges[j].find(\"span\", attrs={\"label\"}).text\n",
    "            if badge in [\"진행중\", \"상시\"]:\n",
    "                policy_id = titles[j].attrs[\"id\"].replace(\"dtlLink_\", \"\")\n",
    "                organ_name = re.sub(r\"<.*?>\", \"\", str(organ[j].select_one(\"p\")))\n",
    "                organ_name = \"세종\" if organ_name == \"세종 세종\" else organ_name\n",
    "                if policy_id not in policy_id_list:\n",
    "                    policy_id_list.append([policy_id, organ_name])\n",
    "    \n",
    "    return policy_id_list\n"
   ]
  },
  {
   "cell_type": "markdown",
   "metadata": {},
   "source": [
    "**정책 상세 정보 크롤링**\n",
    "- index\n",
    "\n",
    "| index | name               | index | name                     |\n",
    "| ----- | ------------------ | ----- | ------------------------ |\n",
    "| 0     | \"정책 번호\"        | 13    | \"추가 단서 사항\"         |\n",
    "| 1     | \"정책 분야\"        | 14    | \"참여 제한 대상\"         |\n",
    "| 2     | \"지원 내용\"        | 15    | \"신청 절차\"              |\n",
    "| 3     | \"사업 운영 기간\"   | 16    | \"심사 및 발표\"           |\n",
    "| 4     | \"사업 신청청 기간\" | 17    | \"신청 사이트\"            |\n",
    "| 5     | \"지원 규모(명)\"    | 18    | \"제출 서류\"              |\n",
    "| 6     | \"비고\"             | 19    | \"기타 유익 정보\"         |\n",
    "| 7     | \"연령\"             | 20    | \"주관 기관\"              |\n",
    "| 8     | \"거주지 및 소득\"   | 21    | \"운영 기관\"              |\n",
    "| 9     | \"학력\"             | 22    | \"사업관련 참고 사이트 1\" |\n",
    "| 10    | \"전공\"             | 23    | \"사업관련 참고 사이트 2\" |\n",
    "| 11    | \"취업 상태\"        | 24    | \"첨부파일\"               |\n",
    "| 12    | \"특화 분야\"        |\n"
   ]
  },
  {
   "cell_type": "markdown",
   "metadata": {},
   "source": [
    "**HTML 문자열 처리 함수 정의**\n",
    "- '객체.text'로 추출되지 않는 요소들이 존재. -> '객체.contents'로 개별 요소 추출.\n",
    "- 요소에 `<br/>`이 있는 경우 이 현상이 잘 나타남. -> `<br/>`태그 제거\n",
    "- '객체.text'로 추출한 경우 과도한 공백 및 줄바꿈 발견\n",
    "- '객체.contents'로 추출할 경우 과도한 공백 및 줄바꿈을 이스케이프 문자로 추출 -> `\\n, \\t`등 이스케이프 문자 제거\n",
    "- 여기서 과도한 공백이란 두 칸 이상의 띄어쓰기를 한 경우. 전체 띄어쓰기를 한 칸으로 맞추려면 시간이 오래 소요되기 때문에 두 칸만 제거."
   ]
  },
  {
   "cell_type": "code",
   "execution_count": 4,
   "metadata": {},
   "outputs": [],
   "source": [
    "def formated(string: str) -> str:\n",
    "    \"\"\"\n",
    "    HTML 태그, 이스케이프 문자, 과도한 공백 제거.\n",
    "    \"\"\"\n",
    "    tag_format = r\"<.*?>\"\n",
    "    string = string.replace(\"\\n\", \"\").replace(\"\\t\", \"\")\n",
    "    string = re.sub(tag_format, \"\", str(string))\n",
    "    string = string.replace(\"  \", \"\")\n",
    "    return string"
   ]
  },
  {
   "cell_type": "code",
   "execution_count": 5,
   "metadata": {},
   "outputs": [],
   "source": [
    "def crawling(policy_id_list: list, url: str, params: dict, cont_attrs: bool = True) -> list:\n",
    "    \"\"\"\n",
    "    정책 상세 정보를 수집.\n",
    "    \"\"\"\n",
    "    total_policy = []\n",
    "    format = {\"br\": r\"<br/>\", \"a\": r\"<a href\"}\n",
    "    \n",
    "    for id, organ in policy_id_list:\n",
    "        policy = {}\n",
    "        try:\n",
    "            response = requests.get(f\"{url}{id}\")\n",
    "        except:\n",
    "            response = requests.get(f\"{url.replace('https', 'http')}{id}\")\n",
    "        \n",
    "        soup = bs(response.text, \"html.parser\")\n",
    "\n",
    "        # 정책 이름 추출\n",
    "        title = soup.find(params[\"title\"][0], params[\"title\"][1]).text\n",
    "        policy[\"정책 이름\"] = title\n",
    "        \n",
    "        if cont_attrs:\n",
    "            policy[\"기관\"] = organ\n",
    "            subtitle = soup.find(\"p\", \"doc_desc\").text\n",
    "            subtitle = subtitle.replace(\"\\r\", \" \")\n",
    "            subtitle = subtitle.strip()\n",
    "            policy[\"요약\"] = subtitle\n",
    "            list_tit = soup.find_all(\n",
    "                name=params[\"list_tit\"][0], attrs=params[\"list_tit\"][1]\n",
    "            )\n",
    "            list_cont = soup.find_all(\n",
    "                name=params[\"list_cont\"][0], attrs=params[\"list_cont\"][1]\n",
    "            )\n",
    "        else:\n",
    "            list_tit = soup.find_all(name=params[\"list_tit\"][0])\n",
    "            list_cont = soup.find_all(name=params[\"list_cont\"][0])\n",
    "        \n",
    "        # 항목 내용 처리\n",
    "        for i in range(len(list_tit)):\n",
    "            # list_cont[i].contents = [\"\\n\", \"ㅁㅁㅁ\", \"\\n\"] 또는 [\"\\n\\t\\t\\t\\tㅁㅁㅁㅁ\\n\\t\\t\\t\\t\", \"<br/>\", \"ㅁㅁㅁ\"]과 같이 나옴\n",
    "            if len(list_cont[i].contents) > 1:\n",
    "                contents = []\n",
    "                for j in range(len(list_cont[i].contents)):\n",
    "                    content = list_cont[i].contents[j]\n",
    "                    # <br/> 제거\n",
    "                    if re.match(format[\"br\"], str(content)) != None:\n",
    "                        content = None\n",
    "                    # url만 있는 경우 추출\n",
    "                    elif re.match(format[\"a\"], str(content)) != None:\n",
    "                        content = content.attrs[\"href\"]\n",
    "                    # 그 외 공백 제거, '\\n', '\\t', 제거 안된 html 태그 제거\n",
    "                    else:\n",
    "                        content = content.text\n",
    "                        content = content.strip()\n",
    "                        content = formated(content)\n",
    "                    # 처리 작업이 끝난 후 의미있는 요소만 contents(list)에 추가\n",
    "                    if content not in [None, \"\\n\", \"\", \",\"]:\n",
    "                        # \\r이 있을 경우 이를 구분자로 분할한 뒤 삽입\n",
    "                        if \"\\r\" in content:\n",
    "                            content = content.split(\"\\r\")\n",
    "                            for con in content:\n",
    "                                contents.append(con)\n",
    "                        else:\n",
    "                            contents.append(content)\n",
    "                if len(contents) == 1:\n",
    "                    contents = \"\".join(contents)\n",
    "            else:\n",
    "                contents = list_cont[i].contents\n",
    "                contents = \"\".join(contents)\n",
    "                contents = formated(contents)\n",
    "\n",
    "            # 동일한 요소가 contents(list)에 들어있을 경우\n",
    "            if (\n",
    "                isinstance(contents, list)\n",
    "                and len(contents) == 2\n",
    "                and contents[0] == contents[1]\n",
    "            ):\n",
    "                contents = set(contents)\n",
    "                contents = \"\".join(contents)\n",
    "                contents = formated(contents)\n",
    "            # 정책의 항목 이름, 내용 연결\n",
    "            policy[list_tit[i].text] = contents\n",
    "        total_policy.append(policy)\n",
    "    return total_policy"
   ]
  },
  {
   "cell_type": "markdown",
   "metadata": {},
   "source": [
    "**main 코드**\n",
    "- 해당 웹 사이트 크롤링"
   ]
  },
  {
   "cell_type": "code",
   "execution_count": null,
   "metadata": {},
   "outputs": [
    {
     "name": "stdout",
     "output_type": "stream",
     "text": [
      "1337개 정책 ID 크롤링 완료\n",
      "policy_id_list 저장 완료\n"
     ]
    }
   ],
   "source": [
    "# 저장 경로 생성\n",
    "DATA_DIR = \"../data\"\n",
    "os.makedirs(DATA_DIR, exist_ok=True)\n",
    "\n",
    "# 정책 ID 수집\n",
    "URL = \"https://www.youthcenter.go.kr/youngPlcyUnif/youngPlcyUnifList.do?pageUnit=60&pageIndex=\"\n",
    "policy_id_list = get_ids_with_state(59, URL)\n",
    "print(f\"{len(policy_id_list)}개 정책 ID 크롤링 완료\")\n",
    "\n",
    "# 저장\n",
    "save_pickle(f\"{DATA_DIR}\", \"policy_id_list.pkl\", policy_id_list)\n",
    "print(\"policy_id_list 저장 완료\")\n",
    "\n",
    "# 정책 상세 정보 크롤링\n",
    "DETAIL_URL = \"https://www.youthcenter.go.kr/youngPlcyUnif/youngPlcyUnifDtl.do?bizId=\"\n",
    "params = {\n",
    "    \"title\": [\"h2\", \"doc_tit01 type2\"],\n",
    "    \"list_tit\": [\"div\", \"list_tit\"],\n",
    "    \"list_cont\": [\"div\", \"list_cont\"],\n",
    "}\n",
    "total_policy = crawling(policy_id_list, DETAIL_URL, params, cont_attrs=True)\n",
    "print(f\"{len(total_policy)}개 정책 상세 정보 크롤링 완료\")\n",
    "\n",
    "# 저장\n",
    "save_json(f\"{DATA_DIR}\", \"policy.json\", total_policy)\n",
    "print(\"policy.json 저장 완료\")\n"
   ]
  },
  {
   "cell_type": "markdown",
   "metadata": {},
   "source": [
    "# 02. 데이터 전처리"
   ]
  },
  {
   "cell_type": "markdown",
   "metadata": {},
   "source": [
    "### 1) 데이터 구조화\n",
    "\n",
    "**사용되지 않을 항목 삭제**\n",
    "- key값이 아래에 해당하면 항목 삭제\n",
    "  >[\"정책 번호\", \"신청 사이트\", \"사업관련 참고 사이트 1\", \"사업관련 참고 사이트 2\", \"첨부파일\"]\n",
    "\n",
    "\n",
    "**의미 없는 값 삭제**\n",
    "- value값이 아래에 해당하면 항목 삭제\n",
    "  >[\"제한없음\", \"\", \"-\", \"상관없음\", \"□제한없음\",\"□ 제한없음\",\"- 제한없음\",\"-제한없음\"]"
   ]
  },
  {
   "cell_type": "code",
   "execution_count": 6,
   "metadata": {},
   "outputs": [
    {
     "name": "stdout",
     "output_type": "stream",
     "text": [
      "policy_result.json 저장 완료\n"
     ]
    }
   ],
   "source": [
    "# 삭제 항목 정의\n",
    "remove_keys = [\n",
    "    \"정책 번호\", \"신청 사이트\", \n",
    "    \"사업관련 참고 사이트 1\", \"사업관련 참고 사이트 2\", \"첨부파일\"\n",
    "]\n",
    "\n",
    "remove_values = [\n",
    "    \"제한없음\", \"\", \"-\", \"상관없음\", \"□제한없음\",\n",
    "    \"□ 제한없음\",\"- 제한없음\",\"-제한없음\"\n",
    "]\n",
    "\n",
    "# 삭제 함수 정의\n",
    "def remove_keys_from_data(data, keys):\n",
    "    if isinstance(data, list):\n",
    "        return [remove_keys_from_data(item, keys) for item in data]\n",
    "    elif isinstance(data, dict):\n",
    "        return {\n",
    "            key: remove_keys_from_data(value, keys)\n",
    "            for key, value in data.items()\n",
    "            if key not in keys\n",
    "        }\n",
    "    else:\n",
    "        return data\n",
    "\n",
    "def remove_values_from_data(data):\n",
    "    if isinstance(data, list):\n",
    "        return [remove_values_from_data(item) for item in data if item not in remove_values]\n",
    "    elif isinstance(data, dict):\n",
    "        return {\n",
    "            key: remove_values_from_data(value)\n",
    "            for key, value in data.items()\n",
    "            if value not in remove_values\n",
    "        }\n",
    "    else:\n",
    "        return data\n",
    "    \n",
    "# 불러오기 \n",
    "data = load_json(\"../data/policy.json\")\n",
    "\n",
    "# 삭제\n",
    "data_cleaned_keys = remove_keys_from_data(data, remove_keys)\n",
    "preprocess_data = remove_values_from_data(data_cleaned_keys)\n",
    "\n",
    "# 저장\n",
    "save_json(\"../data\",\"policy_result.json\", preprocess_data)\n",
    "\n",
    "print(\"policy_result.json 저장 완료\")"
   ]
  },
  {
   "cell_type": "markdown",
   "metadata": {},
   "source": [
    "### 2) 텍스트 전처리"
   ]
  },
  {
   "cell_type": "markdown",
   "metadata": {},
   "source": [
    "**불용어 삭제**\n",
    "- 문서에서 `100번 이상` 등장한 단어를 frequent_words 리스트에 저장\n",
    "- 리스트에서 불용어로 판단 되는 것들 추출\n",
    "- 성능 평가 후 성능 최적화를 위해 삭제하는 단어를 변경할 수 있음\n",
    "- 불용어 리스트\n",
    "  > \"수행\", \"경우\", \"해당\", \"통하여\", \"대한\", \"관련\",\"등\", \"및\", \"또는\", \"중인\", \"통해\",\n",
    "    \"따라\", \"서비스\", \"제공\", \"프로그램\", \"참여\", \"따른\", \"대한\", \"해당\", \"관한\",\"이용\", \n",
    "    \"등을\", \"두고\"\n"
   ]
  },
  {
   "cell_type": "code",
   "execution_count": 7,
   "metadata": {},
   "outputs": [
    {
     "name": "stdout",
     "output_type": "stream",
     "text": [
      "[100번 이상 등장하는 단어]\n",
      "청년, 청년의, 내, 위해, 지원, 주거분야, 최대, 연, 있는, 자\n",
      "기준, 월, 경우, 연계, 1년, 이상, 가입, 시, 이하, 주택\n",
      "출산, 2024년, 12월31일, 가능, 만, 19세, 34세, 소득, 대상, 월세\n",
      "매월, 2024, 2, 신청, 무주택, 중위소득, 등, 및, 확인, 제외\n",
      "포함, 거주, 별도, 또는, 중인, 후, 온라인, 방문, 지급, 신청서\n",
      "서류, 사본, 사업, 심사, 통해, 고용노동부, 위한, 일자리분야, 1, 따라\n",
      "서비스, 제공, 기간, 프로그램, 참여, 취업, 따른, 단, 1회, 추가\n",
      "상시, 중, 수, 6개월, 이내, 필요한, 1인, 가구, 문의, 대상자\n",
      "동의서, 제출, 신청인이, 관련, 증빙서류, 3, 4, 5, 3개월, 보건복지부\n",
      "지역, 복지문화분야, 맞춤형, 부담, 참고, 대한, 모두, 해당, 배우자, 현재\n",
      "관한, 홈페이지, 관할, 선정, 기타, 주민등록상, 동일, 중소기업, 이용, 불가\n",
      "그, 신분증, 주민등록등본, 창업, 지원내용, 대상으로, 필수, 등을, 1인당, 미만\n",
      "각, 개별, 지원사업, 18세, 이후, 39세, 공고문, 20241231, 본인, 주소지\n",
      "거주지, 읍면동, 행정복지센터, 예산, 미취업, 안내, 참조, 무료, 발급, 기업\n",
      "모집, 서울, 운영, 교육, 서울시, 신혼부부, 신청자, 작성, 접수, 내용\n",
      "주관기관과, 12, 도내, 상담, 자립준비청년, 신청일, 두고, 신청방법, 지원대상, 거주하는\n",
      "임차인, 교육분야, 30만원, 사업장, 사업자, 소상공인, 청년들의, 통한, 지원금, 면접\n",
      "소재, 사업기간, 참여자, 일자리, 11, 대학생, 미정, 경기, 경기도, 공고\n",
      "관내, 이메일, 경북, 경남, 컨설팅, 1부, 북구, 동구, 남구, 울산광역시\n",
      "전세보증금반환보증, 보증료, 울산\n"
     ]
    }
   ],
   "source": [
    "import json\n",
    "import re\n",
    "from collections import Counter\n",
    "\n",
    "# 불러오기\n",
    "data = load_json(\"../data/policy.json\")\n",
    "\n",
    "# 모든 텍스트 추출\n",
    "def text_from_json(data):\n",
    "    \"\"\"\n",
    "    JSON 데이터에서 모든 문자열을 추출.\n",
    "    \"\"\"\n",
    "    texts = []\n",
    "    if isinstance(data, dict):\n",
    "        for value in data.values():\n",
    "            texts.extend(text_from_json(value))\n",
    "    elif isinstance(data, list):\n",
    "        for item in data:\n",
    "            texts.extend(text_from_json(item))\n",
    "    elif isinstance(data, str):\n",
    "        texts.append(data)\n",
    "    return texts\n",
    "\n",
    "# 단어 분리\n",
    "def text_to_word(text):\n",
    "    \"\"\"\n",
    "    텍스트를 정제하고 단어 단위로 분리.\n",
    "    \"\"\"\n",
    "    text = re.sub(r'[^가-힣a-zA-Z0-9\\s]', '', text)  # 특수문자 제거\n",
    "    words = text.split()  # 공백 기준으로 단어 분리\n",
    "    return words\n",
    "\n",
    "# 자주 등장하는 단어 찾기\n",
    "def get_frequent_words(words, threshold=100):\n",
    "    \"\"\"\n",
    "    단어 목록에서 자주 등장하는 단어를 찾음.\n",
    "    \"\"\"\n",
    "    word_counts = Counter(words)\n",
    "    frequent_words = [word for word, count in word_counts.items() if count >= threshold]\n",
    "    return frequent_words\n",
    "\n",
    "# 실행\n",
    "if __name__ == \"__main__\":\n",
    "\n",
    "    # 불러오기\n",
    "    FILE_PATH = \"../data/policy_result.json\"\n",
    "    data = load_json(FILE_PATH)\n",
    "    \n",
    "    # 텍스트 추출\n",
    "    texts = text_from_json(data)\n",
    "    \n",
    "    # 단어 분리\n",
    "    all_words = []\n",
    "    for text in texts:\n",
    "        all_words.extend(text_to_word(text))\n",
    "    \n",
    "    # 50번 이상 등장하는 단어\n",
    "    threshold = 100\n",
    "    frequent_words = get_frequent_words(all_words, threshold)\n",
    "    \n",
    "    # 출력\n",
    "    print(\"[100번 이상 등장하는 단어]\")\n",
    "    for i in range(0, len(frequent_words), 10):\n",
    "        print(\", \".join(frequent_words[i:i + 10]))\n"
   ]
  },
  {
   "cell_type": "markdown",
   "metadata": {},
   "source": [
    "**url 삭제**\n",
    "- 정규표현식이 'http://'(http,https),'.kr'인 경우 url이라고 판단하고 삭제  \n",
    "\n",
    "**특수기호 삭제**\n",
    "- 숫자, 한글, 영어를 제외하고 삭제\n",
    "- 소수점 유지를 위해 '.'은 유지"
   ]
  },
  {
   "cell_type": "code",
   "execution_count": 8,
   "metadata": {},
   "outputs": [
    {
     "name": "stdout",
     "output_type": "stream",
     "text": [
      "policy_result.json 저장 완료\n"
     ]
    }
   ],
   "source": [
    "import re\n",
    "\n",
    "# 불러오기\n",
    "data = load_json(\"../data/policy_result.json\")\n",
    "\n",
    "# 불용어 \n",
    "stopwords = [\n",
    "    \"수행\", \"경우\", \"해당\", \"통하여\", \"대한\", \"관련\",\"등\", \"및\", \"또는\", \"중인\", \"통해\",\n",
    "    \"따라\", \"서비스\", \"제공\", \"프로그램\", \"참여\", \"따른\", \"대한\", \"해당\", \"관한\",\"이용\", \n",
    "    \"등을\", \"두고\"\n",
    "]\n",
    "\n",
    "# 제거 함수\n",
    "def remove_text(text):\n",
    "    if isinstance(text, str):\n",
    "        # URL 제거\n",
    "        text = re.sub(r'\\bhttps?://[^\\s]*\\.kr\\b', '', text)\n",
    "        \n",
    "        # 특수기호 제거 (숫자, 한글, 영어 유지)\n",
    "        text = re.sub(r'[^가-힣a-zA-Z0-9\\s.~%]',' ', text)\n",
    "        \n",
    "        # 불용어 제거\n",
    "        for stopword in stopwords:\n",
    "            text = text.replace(stopword, '')\n",
    "        return text   \n",
    "    \n",
    "    return text\n",
    "\n",
    "# 데이터 처리\n",
    "def process_json(data):\n",
    "    if isinstance(data, dict):\n",
    "        return {key: process_json(value) for key, value in data.items()}\n",
    "    elif isinstance(data, list):\n",
    "        return [process_json(item) for item in data]\n",
    "    elif isinstance(data, str):\n",
    "        return remove_text(data)\n",
    "    else:\n",
    "        return data\n",
    "\n",
    "\n",
    "cleaned_data = process_json(data)\n",
    "\n",
    "# 저장\n",
    "save_json(\"../data\",\"policy_result.json\",cleaned_data)\n",
    "print(\"policy_result.json 저장 완료\")"
   ]
  },
  {
   "cell_type": "markdown",
   "metadata": {},
   "source": [
    "### 3) 토큰화"
   ]
  },
  {
   "cell_type": "markdown",
   "metadata": {},
   "source": [
    "**key- value값 병합**\n",
    "- key 값:'정책 이름', '기관', '요약', '정책 분야'인 경우는 유지\n",
    "- 나머지 모든 key,value값 문자열로 반환 -> 병합 후 key 값:\"내용\"의 value값에 저장"
   ]
  },
  {
   "cell_type": "markdown",
   "metadata": {},
   "source": [
    "**토큰화**\n",
    "- 청년 정책 챗봇은 정확한 정보 전달을 최우선으로 여김\n",
    "- chunk size를 지정해 토큰화하지 않고 key-value값 병합된 문자열을 하나의 토큰으로 나눔"
   ]
  },
  {
   "cell_type": "code",
   "execution_count": 9,
   "metadata": {},
   "outputs": [
    {
     "name": "stdout",
     "output_type": "stream",
     "text": [
      "policy_result.json 저장 완료\n"
     ]
    }
   ],
   "source": [
    "import json\n",
    "import re\n",
    "\n",
    "# 불러오기\n",
    "data = load_json(\"../data/policy_result.json\")\n",
    "\n",
    "# 문자열 병합 \n",
    "def merge_values(item):\n",
    "    \"\"\"\n",
    "    리스트, 딕셔너리, 문자열을 하나의 문자열로 병합\n",
    "    \"\"\"\n",
    "    if isinstance(item, list):\n",
    "        return \" \".join(merge_values(sub_item) for sub_item in item)\n",
    "    elif isinstance(item, dict):\n",
    "        return \" \".join(f\"{key}: {merge_values(value)}\" for key, value in item.items())\n",
    "    elif isinstance(item, str):\n",
    "        return item.strip()\n",
    "    else:\n",
    "        return str(item)\n",
    "\n",
    "\n",
    "# 특정 키는 유지, 나머지는 병합\n",
    "def restructure_policy_data(data):\n",
    "    \"\"\"\n",
    "    '정책 이름', '기관', '요약', '정책 분야'는 유지하고 나머지는 '내용'에 병합\n",
    "    \"\"\"\n",
    "    result = []\n",
    "    if isinstance(data, list):\n",
    "        for item in data:\n",
    "            if isinstance(item, dict):\n",
    "                policy = {\n",
    "                    \"정책 이름\": item.get(\"정책 이름\", \"알 수 없음\"),\n",
    "                    \"기관\": item.get(\"기관\", \"알 수 없음\"),\n",
    "                    \"요약\": item.get(\"요약\", \"알 수 없음\"),\n",
    "                    \"정책 분야\": item.get(\"정책 분야\", \"알 수 없음\")\n",
    "                }\n",
    "\n",
    "                # '내용'에 나머지 항목 병합\n",
    "                remaining_content = [\n",
    "                    f\"{key}: {merge_values(value)}\"\n",
    "                    for key, value in item.items()\n",
    "                    if key not in [\"정책 이름\", \"기관\", \"요약\", \"정책 분야\"]\n",
    "                ]\n",
    "                policy[\"내용\"] = \" \".join(remaining_content)\n",
    "\n",
    "                result.append(policy)\n",
    "    return result\n",
    "\n",
    "\n",
    "# 실행행\n",
    "restructured_data = restructure_policy_data(data)\n",
    "\n",
    "\n",
    "# 저장\n",
    "save_json(\"../data\", \"policy_result.json\", restructured_data)\n",
    "print(\"policy_result.json 저장 완료\")\n",
    "\n"
   ]
  },
  {
   "cell_type": "markdown",
   "metadata": {},
   "source": [
    "### 4) 추가 수정\n",
    "성능 평가 후 개선되면 좋겠다고 판단하여 추가적으로 처리"
   ]
  },
  {
   "cell_type": "markdown",
   "metadata": {},
   "source": [
    "**기관->지역**\n",
    "- 기관에 지역명이 포함되어 있어 지역 구분 용으로 사용 ex) \"기관\": \"인천 계양구\"\n",
    "- 지역을 잘 구분하지 못하고 답을 보내 더 명확하게 구분하고자 다음과 같이 변경\n",
    ">   r'경.*북.*': '경상북도',   \n",
    "    r'경.*남.*': '경상남도',   \n",
    "    r'강.*원.*': '강원도',   \n",
    "    r'전.*북.*': '전라북도',   \n",
    "    r'전.*남.*': '전라남도',   \n",
    "    r'충.*북.*': '충청북도',   \n",
    "    r'충.*남.*': '충청남도',   \n",
    "    r'제.*주.*': '제주특별자치도',   \n",
    "    r'서.*울.*': '서울특별시',   \n",
    "    r'부.*산.*': '부산광역시',   \n",
    "    r'대.*구.*': '대구광역시',   \n",
    "    r'대.*전.*': '대전광역시',   \n",
    "    r'광.*주.*': '광주광역시',   \n",
    "    r'울.*산.*': '울산광역시',   \n",
    "    r'인.*천.*': '인천광역시',   \n",
    "    r'세.*종.*': '세종특별자치시'   \n",
    "\n",
    "- 지역명이 없는 기관은 전국 대상으로 처리 ex) \"기관\": \"고용노동부\""
   ]
  },
  {
   "cell_type": "code",
   "execution_count": 10,
   "metadata": {},
   "outputs": [
    {
     "name": "stdout",
     "output_type": "stream",
     "text": [
      "policy_result.json 저장 완료\n"
     ]
    }
   ],
   "source": [
    "import json\n",
    "import re\n",
    "\n",
    "# 불러오기\n",
    "data = load_json(\"../data/policy_result.json\")\n",
    "\n",
    "# 지역 매핑 (정규표현식: 기관명에 포함된 지역명)\n",
    "region_patterns = {\n",
    "    r'경.*북.*': '경상북도',\n",
    "    r'경.*남.*': '경상남도',\n",
    "    r'강.*원.*': '강원도',\n",
    "    r'전.*북.*': '전라북도',\n",
    "    r'전.*남.*': '전라남도',\n",
    "    r'충.*북.*': '충청북도',\n",
    "    r'충.*남.*': '충청남도',\n",
    "    r'제.*주.*': '제주특별자치도',\n",
    "    r'서.*울.*': '서울특별시',\n",
    "    r'부.*산.*': '부산광역시',\n",
    "    r'대.*구.*': '대구광역시',\n",
    "    r'대.*전.*': '대전광역시',\n",
    "    r'광.*주.*': '광주광역시',\n",
    "    r'울.*산.*': '울산광역시',\n",
    "    r'인.*천.*': '인천광역시',\n",
    "    r'세.*종.*': '세종특별자치시'\n",
    "}\n",
    "\n",
    "# 데이터 변환\n",
    "def replace_institution_with_region(data):\n",
    "    \"\"\"\n",
    "    '기관'을 '지역'으로 키를 대체하고 순서를 유지합니다.\n",
    "    \"\"\"\n",
    "    for policy in data:\n",
    "        if \"기관\" in policy:\n",
    "            institution = policy[\"기관\"]\n",
    "            region = '전국'  # 기본값 설정\n",
    "            \n",
    "            # 기관명에서 지역 매칭\n",
    "            for pattern, mapped_region in region_patterns.items():\n",
    "                if re.search(pattern, institution):\n",
    "                    region = mapped_region\n",
    "                    break\n",
    "            \n",
    "            # '기관'을 '지역'으로 대체 (순서 유지)\n",
    "            updated_policy = {}\n",
    "            for key, value in policy.items():\n",
    "                if key == \"기관\":\n",
    "                    updated_policy[\"지역\"] = region\n",
    "                else:\n",
    "                    updated_policy[key] = value\n",
    "            \n",
    "            # 기존 항목을 새로운 항목으로 교체\n",
    "            policy.clear()\n",
    "            policy.update(updated_policy)\n",
    "\n",
    "# 실행행\n",
    "replace_institution_with_region(data)\n",
    "\n",
    "# 저장\n",
    "save_json(\"../data\", \"policy_result.json\", data)\n",
    "print(\"policy_result.json 저장 완료\")\n"
   ]
  },
  {
   "cell_type": "markdown",
   "metadata": {},
   "source": [
    "**key값 띄어쓰기 삭제**\n",
    "- key값의 띄어쓰기 때문에 인식에 헷갈림이 있어 보임\n",
    "- '운영 기관'보다 '운영기관'을 더 잘 인식   \n",
    "\n",
    "**'분야' 삭제**\n",
    "- key 값 '정책 분야'의 내용에 담긴 마지막 두 글자 '분야' 삭제 \n",
    "    - ex) 일자리분야 -> 일자리\n",
    "- 더 다양한 질문에서 잘 인식\n",
    "    - ex) 일자리에 고민이 있어."
   ]
  },
  {
   "cell_type": "code",
   "execution_count": 11,
   "metadata": {},
   "outputs": [
    {
     "name": "stdout",
     "output_type": "stream",
     "text": [
      "policy_result.json 저장 완료\n"
     ]
    }
   ],
   "source": [
    "# 불러오기\n",
    "data = load_json(\"../data/policy_result.json\")\n",
    "\n",
    "# 띄어쓰기 제거 \n",
    "def remove_spaces(data):\n",
    "    \"\"\"\n",
    "    모든 Key에서 띄어쓰기를 제거합니다.\n",
    "    \"\"\"\n",
    "    if isinstance(data, list):\n",
    "        return [remove_spaces(item) for item in data]\n",
    "    elif isinstance(data, dict):\n",
    "        return {key.replace(\" \", \"\"): remove_spaces(value) for key, value in data.items()}\n",
    "    else:\n",
    "        return data\n",
    "\n",
    "# 마지막 2글자 삭제 \n",
    "def modify_policy_field(data):\n",
    "    \"\"\"\n",
    "    \"정책분야\"의 Value 마지막 2글자를 삭제합니다.\n",
    "    \"\"\"\n",
    "    if isinstance(data, list):\n",
    "        for item in data:\n",
    "            modify_policy_field(item)\n",
    "    elif isinstance(data, dict):\n",
    "        if \"정책분야\" in data and isinstance(data[\"정책분야\"], str):\n",
    "            data[\"정책분야\"] = data[\"정책분야\"][:-2]  # 마지막 2글자 제거\n",
    "        for key, value in data.items():\n",
    "            modify_policy_field(value)\n",
    "\n",
    "# 실행\n",
    "data = remove_spaces(data)\n",
    "modify_policy_field(data)\n",
    "\n",
    "# 저장\n",
    "save_json(\"../data\", \"policy_result.json\", data)\n",
    "print(\"policy_result.json 저장 완료\")\n"
   ]
  },
  {
   "cell_type": "markdown",
   "metadata": {},
   "source": [
    "# 03. RAG 시스템\n",
    "\n",
    "RAG(Retrieval-Augmented Generation) 모델을 사용하여 정보를 제공하는 시스템 구현함.\n",
    "문서 검색을 위한 vector store와 context 기반 응답 생성을 위한 언어 모델을 통합하였음."
   ]
  },
  {
   "cell_type": "markdown",
   "metadata": {},
   "source": [
    "### 1) 환경 설정\n"
   ]
  },
  {
   "cell_type": "markdown",
   "metadata": {},
   "source": [
    "**.env 파일**\n",
    "\n",
    "- API키 저장한 .env 파일 불러오기\n"
   ]
  },
  {
   "cell_type": "code",
   "execution_count": 1,
   "metadata": {},
   "outputs": [
    {
     "data": {
      "text/plain": [
       "True"
      ]
     },
     "execution_count": 1,
     "metadata": {},
     "output_type": "execute_result"
    }
   ],
   "source": [
    "from dotenv import load_dotenv\n",
    "\n",
    "load_dotenv()"
   ]
  },
  {
   "cell_type": "markdown",
   "metadata": {},
   "source": [
    "**라이브러리 불러오기**\n"
   ]
  },
  {
   "cell_type": "code",
   "execution_count": 16,
   "metadata": {},
   "outputs": [],
   "source": [
    "import os\n",
    "from module.file import load_json\n",
    "from langchain.vectorstores import Chroma\n",
    "from langchain.embeddings import OpenAIEmbeddings\n",
    "from langchain.schema import Document\n",
    "from langchain.prompts import ChatPromptTemplate, MessagesPlaceholder\n",
    "from langchain.memory import ConversationBufferMemory\n",
    "from langchain.agents import create_tool_calling_agent, AgentExecutor\n",
    "from langchain_openai import ChatOpenAI\n",
    "from langchain_community.tools import TavilySearchResults\n",
    "from langchain_core.tools import tool\n",
    "from langchain_core.output_parsers import StrOutputParser\n",
    "from langchain_core.runnables.history import RunnableWithMessageHistory, RunnableLambda\n",
    "from langchain.schema import HumanMessage\n",
    "from operator import itemgetter\n",
    "from textwrap import dedent\n",
    "from itertools import chain"
   ]
  },
  {
   "cell_type": "markdown",
   "metadata": {},
   "source": [
    "**디렉토리 설정**\n",
    "1) 경로 설정\n",
    "   - text-embedding-ada-002: 고품질 임베딩을 생성하기 위해 해당 임베딩 모델을 선택함.\n",
    "\n",
    "2) JSON 데이터 불러오기\n",
    "   - 개별 정책 text를 통합하여 metadata와 함께 JSON 문서를 생성하였음."
   ]
  },
  {
   "cell_type": "code",
   "execution_count": 3,
   "metadata": {},
   "outputs": [
    {
     "name": "stderr",
     "output_type": "stream",
     "text": [
      "C:\\Users\\Playdata\\AppData\\Local\\Temp\\ipykernel_20200\\4180259025.py:24: LangChainDeprecationWarning: The class `OpenAIEmbeddings` was deprecated in LangChain 0.0.9 and will be removed in 1.0. An updated version of the class exists in the :class:`~langchain-openai package and should be used instead. To use it run `pip install -U :class:`~langchain-openai` and import as `from :class:`~langchain_openai import OpenAIEmbeddings``.\n",
      "  embedding_model = OpenAIEmbeddings(model=EMBEDDING_MODEL_NAME)\n"
     ]
    },
    {
     "name": "stdout",
     "output_type": "stream",
     "text": [
      "기존 Vector Store를 ..\\data\\vector_store\\policy에서 로드합니다.\n"
     ]
    },
    {
     "name": "stderr",
     "output_type": "stream",
     "text": [
      "C:\\Users\\Playdata\\AppData\\Local\\Temp\\ipykernel_20200\\4180259025.py:29: LangChainDeprecationWarning: The class `Chroma` was deprecated in LangChain 0.2.9 and will be removed in 1.0. An updated version of the class exists in the :class:`~langchain-chroma package and should be used instead. To use it run `pip install -U :class:`~langchain-chroma` and import as `from :class:`~langchain_chroma import Chroma``.\n",
      "  vector_store = Chroma(\n"
     ]
    },
    {
     "name": "stdout",
     "output_type": "stream",
     "text": [
      "Vector Store 저장 완료\n",
      "저장된 파일 목록: ['86e20239-3a1e-453c-a1d0-3920361726f6', 'chroma.sqlite3']\n"
     ]
    },
    {
     "name": "stderr",
     "output_type": "stream",
     "text": [
      "C:\\Users\\Playdata\\AppData\\Local\\Temp\\ipykernel_20200\\4180259025.py:45: LangChainDeprecationWarning: Since Chroma 0.4.x the manual persistence method is no longer supported as docs are automatically persisted.\n",
      "  vector_store.persist()\n"
     ]
    }
   ],
   "source": [
    "# 경로 설정\n",
    "DIRECTORY_PATH = r\"..\\data\"\n",
    "PERSIST_DIRECTORY = r\"..\\data\\vector_store\\policy\"\n",
    "COLLECTION_NAME = \"policy\"\n",
    "EMBEDDING_MODEL_NAME = \"text-embedding-ada-002\"\n",
    "TOKENIZED_DATA_PATH = os.path.join(DIRECTORY_PATH, \"policy_result.json\")\n",
    "\n",
    "\n",
    "# JSON 데이터 불러오기\n",
    "data = load_json(\"../data/policy_result.json\")\n",
    "\n",
    "# Document 객체로 변환\n",
    "documents = []\n",
    "for policy_name, contents in data.items():\n",
    "    merged_text = \" \".join(contents)\n",
    "    documents.append(\n",
    "        Document(\n",
    "            page_content=merged_text,\n",
    "            metadata={\"name\": policy_name, \"source\": TOKENIZED_DATA_PATH},\n",
    "        )\n",
    "    )\n",
    "\n",
    "# 임베딩 모델 초기화\n",
    "embedding_model = OpenAIEmbeddings(model=EMBEDDING_MODEL_NAME)\n",
    "\n",
    "# Vector Store 생성/로드\n",
    "if os.path.exists(PERSIST_DIRECTORY):\n",
    "    print(f\"기존 Vector Store를 {PERSIST_DIRECTORY}에서 로드합니다.\")\n",
    "    vector_store = Chroma(\n",
    "        persist_directory=PERSIST_DIRECTORY,\n",
    "        collection_name=COLLECTION_NAME,\n",
    "        embedding_function=embedding_model,\n",
    "    )\n",
    "else:\n",
    "    print(f\"새로운 Vector Store를 {PERSIST_DIRECTORY}에 생성합니다.\")\n",
    "    os.makedirs(PERSIST_DIRECTORY, exist_ok=True)\n",
    "    vector_store = Chroma.from_documents(\n",
    "        documents=documents,\n",
    "        embedding=embedding_model,\n",
    "        collection_name=COLLECTION_NAME,\n",
    "        persist_directory=PERSIST_DIRECTORY,\n",
    "    )\n",
    "\n",
    "# Vector Store 저장\n",
    "vector_store.persist()\n",
    "print(f\"Vector Store 저장 완료\")\n",
    "\n",
    "# 저장된 파일 확인\n",
    "saved_files = os.listdir(PERSIST_DIRECTORY)\n",
    "print(f\"저장된 파일 목록: {saved_files}\")"
   ]
  },
  {
   "cell_type": "code",
   "execution_count": 4,
   "metadata": {},
   "outputs": [
    {
     "name": "stdout",
     "output_type": "stream",
     "text": [
      "검색 결과 예시:\n",
      "page_content='기관:경남 정책 분야:주거분야 지원 내용:  자립준비청년의 주거 복지를 위한 주택청약종합저축 납입지원금 지원   우리은행 주택청약종합저축  청년우대형 주택청약종합저축  별도자격요건 필요  통장 개설    매월 주택청약종합저축 계좌로 2만원 자동이체   지원예산  1인당 월 2만원씩 24개월 지원  본인 자금으로 1회 납입 후 2회~25회차까지 납입금 지원    신청기간은 모집 마감시까지 사업 신청 기간:상시 비고:2024.01.16.~2024.01.24. 연령:만 19세 ~ 34세 거주지 및 소득:퇴소했거나 재원중이거나 보호가 종료된 아동 만18세~34세  1 000명 신청 절차:온라인 홈페이지 바로가기  신청 주관 기관:적십자사 운영 기관:주관기관과 동일' metadata={'name': '유스타트 주택청약 종합저축 지원사업', 'source': '..\\\\data\\\\policy_result.json'}\n"
     ]
    }
   ],
   "source": [
    "# Vector Store 데이터 확인\n",
    "try:\n",
    "    results = vector_store.similarity_search(\"청년 주택드림 청약통장\")\n",
    "    print(\"검색 결과 예시:\")\n",
    "    print(results[0] if results else \"검색 결과 없음\")\n",
    "except Exception as e:\n",
    "    print(f\"검색 오류: {e}\")"
   ]
  },
  {
   "cell_type": "markdown",
   "metadata": {},
   "source": [
    "**Retriever 설정**\n",
    "- MMR(Maximal Marginal Relevance) 방식을 사용하여 <br> 검색 결과의 다양성과 관련성을 균형있게 검색하도록 함.\n",
    "- 복수의 답변을 생성하게 될 경우를 위해 k 값을 10으로 설정함."
   ]
  },
  {
   "cell_type": "code",
   "execution_count": 5,
   "metadata": {},
   "outputs": [
    {
     "name": "stdout",
     "output_type": "stream",
     "text": [
      "vector store가 ..\\data\\vector_store\\policy에서 성공적으로 생성/로드되었습니다.\n"
     ]
    }
   ],
   "source": [
    "# Retriever 설정 - 검색 설정\n",
    "retriever = vector_store.as_retriever(\n",
    "    search_type=\"mmr\",\n",
    "    search_kwargs={\n",
    "        \"k\": 5,\n",
    "        \"fetch_k\": 10,\n",
    "        \"lambda_mult\": 0.2,\n",
    "    },\n",
    ")\n",
    "\n",
    "print(f\"vector store가 {PERSIST_DIRECTORY}에서 성공적으로 생성/로드되었습니다.\")"
   ]
  },
  {
   "cell_type": "markdown",
   "metadata": {},
   "source": [
    "**DB 기반 검색 도구, Web 기반 검색 도구 생성**\n",
    "- 데이터에 빠르게 접근하고, 최신 외부 정보를 검색할 수 있도록 tool을 생성함."
   ]
  },
  {
   "cell_type": "code",
   "execution_count": 6,
   "metadata": {},
   "outputs": [],
   "source": [
    "# db 검색 tool\n",
    "@tool\n",
    "def search_policy(query: str) -> list[Document]:\n",
    "    \"\"\"\n",
    "    Vector Store에 저장된 청년 지원 정책과 해당 정책의 정보를 검색한다.\n",
    "    이 도구는 청년 지원 정책 관련 질문에 대해 실행한다.\n",
    "    \"\"\"\n",
    "    result = retriever.invoke(query)\n",
    "    return result if result else [Document(page_content=\"검색 결과가 없습니다.\")]\n",
    "\n",
    "\n",
    "# web 검색 tool\n",
    "@tool\n",
    "def search_web(query: str) -> list[Document]:\n",
    "    \"\"\"\n",
    "    Web에서 청년 지원 정책과 해당 정책의 정보를 검색한다.\n",
    "    이 도구는 청년 지원 정책 관련 질문에 대해 실행한다.\n",
    "    \"\"\"\n",
    "    try:\n",
    "        tavily_search = TavilySearchResults(max_results=2)\n",
    "        result = tavily_search.invoke(query)\n",
    "        if result:\n",
    "            return [\n",
    "                Document(\n",
    "                    page_content=item.get(\"content\", \"\"),\n",
    "                    metadata={\"title\": item.get(\"title\", \"\")},\n",
    "                )\n",
    "                for item in result\n",
    "            ]\n",
    "        else:\n",
    "            return [Document(page_content=\"검색 결과가 없습니다.\")]\n",
    "    except Exception as e:\n",
    "        return [Document(page_content=f\"오류 발생: {str(e)}\")]"
   ]
  },
  {
   "cell_type": "markdown",
   "metadata": {},
   "source": [
    "**Prompt 설정**\n",
    "- 사용자의 질문에 필요한 답변을 넘어 불필요한 정보까지 제공하는 경우가 있었으므로 <br> 3번 항목을 가이드라인에 포함하였음.\n",
    "- 정보가 없는 지역과 관련된 질문 등 해당 RAG가 답변하지 못하는 영역의 질문까지도 <br> 답변하는 경우가 있었으므로 7번 항목을 가이드라인에 포함하였음."
   ]
  },
  {
   "cell_type": "code",
   "execution_count": 7,
   "metadata": {},
   "outputs": [
    {
     "name": "stderr",
     "output_type": "stream",
     "text": [
      "C:\\Users\\Playdata\\AppData\\Local\\Temp\\ipykernel_20200\\1351392889.py:31: LangChainDeprecationWarning: Please see the migration guide at: https://python.langchain.com/docs/versions/migrating_memory/\n",
      "  memory = ConversationBufferMemory()  # 메모리 설정\n"
     ]
    }
   ],
   "source": [
    "# LLM 구성\n",
    "prompt_template = ChatPromptTemplate.from_messages(\n",
    "    [\n",
    "        MessagesPlaceholder(\"agent_scratchpad\"),\n",
    "        (\n",
    "            \"ai\",\n",
    "            dedent(\n",
    "                \"\"\"\n",
    "        당신은 유능한 청년지원정책 추천 전문 AI 챗봇입니다.\n",
    "        주요 목표는 사용자의 요청에 따라 알맞는 청년지원정책을 추천하는 것입니다.\n",
    "        다음은 답변을 작성하기 위한 지침(guidelines)입니다:\n",
    "        1. 주어진 context(데이터 및 검색 결과)를 바탕으로만 대답해주세요.\n",
    "        2. 모든 답변은 학습된 정책 데이터를 바탕으로 사용자가 물어본 질문에 대한 정확한 정보만 작성하세요.\n",
    "        3. 답변에 불필요한 정보는 제공하지 마세요. \n",
    "        4. 해당 데이터에 없는 내용은 검색해서 대답세요. 다만, 검색 도구(TavilySearch 등)에서도 찾을 수 없는 경우, 답변을 추측하거나 임의로 생성하지 말고 \"잘 모르겠습니다.\"라고 답변하세요.검색으로도 정보를 찾을 수 없을 경우 답변을 추측하거나 임의로 생성하지말고, \"잘 모르겠습니다.\"라고 답변하세요.\n",
    "        5. 답변은 체계적이고, 비전문가 사용자도 이해하기 쉽게 답변을 작성하세요.\n",
    "        6. 항상 최신의 정확한 정보를 제공하기 위해 노력하세요.\n",
    "        7. 질문을 완전히 이해하지 못할 경우, 구체적인 질문을 다시 받을 수 있도록 사용자에게 유도 질문을 하세요.     \n",
    "        8. 답변 스타일은 간결하고 논리적으로 작성하세요. 필요시, 리스트 형식으로 정리하세요.\n",
    "        \n",
    "        위 지침을 따라 사용자의 요청에 맞는 적절한 청년지원정책 정보를 제공합니다.\n",
    "        {context}\n",
    "    \"\"\"\n",
    "            ),\n",
    "        ),\n",
    "        MessagesPlaceholder(\"history\"),\n",
    "        (\"human\", \"{question}\"),\n",
    "    ]\n",
    ")\n",
    "\n",
    "memory = ConversationBufferMemory()  # 메모리 설정\n",
    "model = ChatOpenAI(model=\"gpt-4o\", temperature=0)\n",
    "parser = StrOutputParser()\n",
    "\n",
    "# agent 구성\n",
    "agent = create_tool_calling_agent(\n",
    "    llm=model, tools=[search_policy, search_web], prompt=prompt_template\n",
    ")\n",
    "\n",
    "runnable = (\n",
    "    {\n",
    "        \"context\": RunnableLambda(lambda x: retriever.invoke(x[\"question\"])),\n",
    "        \"question\": itemgetter(\"question\"),\n",
    "        \"history\": itemgetter(\"history\"),\n",
    "    }\n",
    "    | prompt_template\n",
    "    | model\n",
    "    | parser\n",
    ")\n",
    "\n",
    "chain = RunnableWithMessageHistory(\n",
    "    runnable=runnable,\n",
    "    get_session_history=lambda session_id: memory.chat_memory,\n",
    "    input_messages_key=\"question\",\n",
    "    history_messages_key=\"history\",\n",
    ")"
   ]
  },
  {
   "cell_type": "code",
   "execution_count": 8,
   "metadata": {},
   "outputs": [],
   "source": [
    "toolkit = [search_policy, search_web]\n",
    "\n",
    "agent_executor = AgentExecutor(agent=agent, tools=toolkit, verbose=True)"
   ]
  },
  {
   "cell_type": "code",
   "execution_count": 9,
   "metadata": {},
   "outputs": [],
   "source": [
    "# 사용자 질문\n",
    "query = input(\"질문을 입력하세요: \").strip()\n",
    "if not query:\n",
    "    print(\"유효한 질문을 입력하세요.\")\n",
    "    exit()"
   ]
  },
  {
   "cell_type": "code",
   "execution_count": 10,
   "metadata": {},
   "outputs": [],
   "source": [
    "# context와 history 기본값 설정\n",
    "context = \"기본 context가 비어 있습니다. 적절한 데이터를 제공하세요.\"\n",
    "history = []"
   ]
  },
  {
   "cell_type": "code",
   "execution_count": 11,
   "metadata": {},
   "outputs": [],
   "source": [
    "result_from_db = search_policy.invoke(query)\n",
    "result_from_web = search_web.invoke(query)"
   ]
  },
  {
   "cell_type": "markdown",
   "metadata": {},
   "source": [
    "**검색 결과 통합**\n",
    "- 데이터베이스와 web이라는 두 가지 공간에서 정보를 수집하므로<br>검색 결과를 하나의 context로 통합하여 응답 생성에 종합적인 정보를 제공하도록 하였음."
   ]
  },
  {
   "cell_type": "code",
   "execution_count": 14,
   "metadata": {},
   "outputs": [],
   "source": [
    "def combine_search_results(result_from_db: list, result_from_web: list) -> str:\n",
    "    combined_context = [\n",
    "        \"저장된 데이터에서 찾은 정보:\\n\",\n",
    "        *[doc.page_content for doc in result_from_db],\n",
    "        \"실시간 web 검색에서 확인된 정보:\\n\",\n",
    "    ]\n",
    "    if result_from_web:\n",
    "        combined_context.extend(\n",
    "            [f\"[{idx}] {doc.metadata.get('title', '제목 없음')}: {doc.page_content}\"\n",
    "             for idx, doc in enumerate(result_from_web, start=1)]\n",
    "        )\n",
    "    else:\n",
    "        combined_context.append(\"web 검색 결과가 없습니다.\")\n",
    "    return \"\\n\".join(combined_context)\n",
    "\n",
    "combined_context = combine_search_results(result_from_db, result_from_web)"
   ]
  },
  {
   "cell_type": "code",
   "execution_count": null,
   "metadata": {},
   "outputs": [],
   "source": [
    "# from langchain.schema import HumanMessage"
   ]
  },
  {
   "cell_type": "code",
   "execution_count": 17,
   "metadata": {},
   "outputs": [],
   "source": [
    "# LLM 입력 메세지 구성\n",
    "final_input_messages = [\n",
    "    HumanMessage(content=f\"사용자 질문: {query}\"),\n",
    "    HumanMessage(content=f\"context: {combined_context}\")\n",
    "]"
   ]
  },
  {
   "cell_type": "code",
   "execution_count": 22,
   "metadata": {},
   "outputs": [
    {
     "name": "stdout",
     "output_type": "stream",
     "text": [
      "\n",
      "\n",
      "\u001b[1m> Entering new AgentExecutor chain...\u001b[0m\n",
      "\u001b[32;1m\u001b[1;3m\n",
      "Invoking: `search_policy` with `{'query': '경기도 주거 정책'}`\n",
      "\n",
      "\n",
      "\u001b[0m\u001b[36;1m\u001b[1;3m[Document(metadata={'name': '무료법률상담', 'source': '..\\\\data\\\\policy_result.json'}, page_content='기관:경기 정책 분야:복지.문화분야 지원 내용:민사  가사  형사  시민 생활과 밀접한 분야의 법률 세무 노무 상담  을  법률적으로 어려움에 처해있는 청년들에게 도움이 될 것으로 보임. 사업 신청 기간:상시 비고:상시 주관 기관:경기도 운영 기관:경기도'), Document(metadata={'name': '광산구 청년총회  청그림 ', 'source': '..\\\\data\\\\policy_result.json'}, page_content='기관:광주 광산 정책 분야:.권리분야 지원 내용:청년주도의 정책기획  결정을 위한 총회 개최 사업 운영 기간:2024.01.01.~2024.12.31. 사업 신청 기간:미정 주관 기관:광산구청 시민경제과'), Document(metadata={'name': '유스놀이터 운영 광주시 ', 'source': '..\\\\data\\\\policy_result.json'}, page_content='기관:경기 광주시 정책 분야:복지.문화분야 지원 내용:  캠핑 장비  레저용품  물품대여사업 사업 운영 기간:2024.1.1.~12.31. 사업 신청 기간:상시 비고:상시접수 연령:만 19세 ~ 39세 거주지 및 소득:  광주시 거주  재학  활동하는 청년 추가 단서 사항:   캠핑장비  백패킹 세트  캠핑용 패키지 텐트  침낭  테이블  의자  조리도구  웨건    랜턴  불멍화로  빔프로젝터  스크린    영상장비  고프로  웹캠  짐벌  미니 드론  미러리스 카메라  부자재 녹음기  마이크  조명  삼각대       공구  수공구 세트  전동드릴  스크류 드라이버     취미 레저용품  스마트폰 삼각대  블루투스 스피커  축구공  농구공  배구공  배드민턴 라켓  신청 절차:  광주시 청년지원센터 온라인 신청  방문수령 주관 기관:  경기도 광주시 운영 기관:  주관기관과 동일'), Document(metadata={'name': '청년 면접정장 무료대여 광명시 ', 'source': '..\\\\data\\\\policy_result.json'}, page_content='기관:경기 광명시 정책 분야:일자리분야 지원 내용:  대여품목  자켓  팬츠  스커트  블라우스  셔츠  구두  넥타이  벨트    대여기간  1회당 3박4일  대여 횟수는 제한 없음  사업 신청 기간:상시 비고:  신청기간  2024년 1월~12월  예산 소진 시까지  연령:만 18세 ~ 34세 거주지 및 소득:  신청자격  신청일 기준 주민록상 광명시 거주인 18세~34세 취업준비생 참여 제한 대상:  취업면접의 대상자에게 되는 사업으로  대학교 대학원 면접  모의면접은하지 않음 신청 절차:  1단계  온라인 신청   경기도일자리재단 통합접수시스템 http   apply.jobaba.net 에 접속    신청자의 기본정보 이름  성별  생년월일  주소  휴대폰번호    면접  정보  정장 대여 정보  필수 서류 제출 첨부파일   꼼꼼하게 작성   2단계  담당자의 적격 여부 확인 후 쿠폰번호 발송   3단계  신청자가 직접 예약  방문하여 정장 대여 신분증 지참      업체별 대여절차  휴무일 운영시간이 상이하니 꼭 확인 후 방문요망    택배 대여 시  업체와 사전 개별연락 필수 택배비 무료    4단계  대여 기간 내 대여한 업체에 정장 반납   대여기간   3박 4일   택배 반납 시  업체와 사전 개별연락 필수  택배비 무료    대여절차  업체명  데시데리오 테일러  시로부터 승인 문자 수령  전화  네이버를 통한 예약  방문대여  업체명   마이스윗인터뷰  시로부터 승인 문자 수령  방문대여 기타 유익 정보:  문의  신청대상  제출서류  문의   광명시 사회적경제과  02 2680 6372  예약  방문 문의   지점 주관 기관:경기도 광명시 운영 기관:경기도 광명시'), Document(metadata={'name': '해운대구 청년 온라인플랫폼  해청이랑  운영', 'source': '..\\\\data\\\\policy_result.json'}, page_content='기관:부산 해운대구 정책 분야:.권리분야 지원 내용:  일자리  주거  생활 문화  청년에  지원정책 종합안내  기업지도 구축  청년과의 소통창구 마련 사업 신청 기간:상시 거주지 및 소득:  청년  일반구민 주관 기관:  해운대구 일자리경제과 운영 기관:  해운대구 일자리경제과')]\u001b[0m\u001b[32;1m\u001b[1;3m\n",
      "Invoking: `search_policy` with `{'query': '서울시 주거 정책'}`\n",
      "\n",
      "\n",
      "\u001b[0m\u001b[36;1m\u001b[1;3m[Document(metadata={'name': '소셜믹스형 공공임대주택  청년주택 ', 'source': '..\\\\data\\\\policy_result.json'}, page_content='기관:서울 금천구 정책 분야:주거분야 지원 내용:주거  자립기반이 취약한 청년층의 주거 공급 사업 신청 기간:미정 비고:수시 연령:만 19세 ~ 39세 거주지 및 소득:서울시 거주 공고문 필히 참고 신청 절차:모집공고를 통한 신청자 접수 주관 기관:금천구청 일자리청년과 운영 기관:02 2627 2587'), Document(metadata={'name': '한지붕세대공감', 'source': '..\\\\data\\\\policy_result.json'}, page_content='기관:서울 정책 분야:주거분야 지원 내용:  어르신   방 1실당 100만원 이내 환경 개선공사   생활상의 필요 활동 분담   학 생   무보증금   학교와 근접한 주거공간 사업 신청 기간:상시 거주지 및 소득:  어르신   서울시에 거주하는 주택 방1개 이상 을 소유한 60세 어르신   학 생   서울시 소재 대학 원  재학  휴학생 학력:대학 재학  석박사 취업 상태:미취업자 신청 절차: 서울주거포털에서 온라인 신청 제출 서류:개별 공고 참조 기타 유익 정보:문의   02 120 다산콜센터  서울시 주택정책과 주관 기관:서울시청 주택정책과 운영 기관:서울시청 주택정책과'), Document(metadata={'name': '강남구 청년 일자리 CATCH 프로젝트', 'source': '..\\\\data\\\\policy_result.json'}, page_content='기관:서울 강남구 정책 분야:일자리분야 지원 내용:  시대를 관통하는 창의적인 정책 사업기획 운영   최신 기술중심 교육  지원   신뢰를 기반으로 하는 투명한 청년 일자리 거버넌스   융합적 사고기반 청년 일자리 문제 해결   청년 사회진입 지원을 위한 희망이음 일경험 지원 사업 신청 기간:미정 비고:공고문 참고 거주지 및 소득:추후 공고문 참고 추가 단서 사항:  4대 전략  과제   전략 1   청년일자리 정책 사업계획  운영관리 체계 구축  1 1  신뢰받는 강남구 청년 고용 거버넌스 구축  1 2  청년 일자리 정책사업 운영관리 체계 고도화  모니터링    전략 2   강남구와 청년의 미래를 잇는 희망이음 마케팅 전략 수립  2 1  강남구 청년 일자리 정책 홍보전략 수립  2 2  강남구 청년 일자리 정책 홍보 희망이음 서포터즈 운영    전략 3   수요자 맞춤형 기술 훈련 교육  지원  3 1  지역 주력산업 기반 교육지원  운영  3 2  벤처촉진기구 연계 기술지원  기획  운영    전략 4   취 창업 유형별 문제해결 정책사업 운영  4 1  강남구 일반 취 창업영역  일경험  창업기회 지원    4 2  강남구 로컬 골목  상권  소상공인  활성화 융복합 취창업 지원 주관 기관:강남구청 운영 기관:주관기관과 동일'), Document(metadata={'name': '청년안심주택 공급 매입 ', 'source': '..\\\\data\\\\policy_result.json'}, page_content='기관:서울 정책 분야:주거분야 지원 내용:역세권 간선도로변 의 민간소유 토지를 체계적으로 개발 민간 주도 공공 지원 하여 쾌적하고 저렴한 주택을 공급함으로써 청년층의 주거안정을 도모하고 지역경제를 활성화하고자 함. 사업 신청 기간:상시 지원 규모(명):8 184실 공공 2 216실  민간 5 968실  비고:연간 상시   공고문 필히 참고 요망 연령:만 19세 ~ 39세 기타 유익 정보:  공공임대 문의   1600 3456   청년안심주택의 원활한 공급  운영을 위하여 사업자  입주자를 대상으로 종합적인 컨설팅  상담 지원 주관 기관:전략주택공급과 운영 기관:전략주택공급과'), Document(metadata={'name': '서울 청년포털 청년 몽땅 정보통  운영', 'source': '..\\\\data\\\\policy_result.json'}, page_content='기관:서울 정책 분야:.권리분야 지원 내용:  중앙정부와 지자체별 칸막이로 관리되는 청년정책 정보 통합 추진   중앙정부  서울시  모든 청년정책 연계  통합검색 기반 구축    개인별 맞춤정보 검색  적기에 선제적 을  청년 확대 사업 신청 기간:상시 비고:상시  거주지 및 소득:제한 없음 주관 기관:서울시청 미래청년기획단 운영 기관:주관기관과 동일')]\u001b[0m\u001b[32;1m\u001b[1;3m경기도와 서울시의 주거 정책을 비교해보겠습니다.\n",
      "\n",
      "### 경기도 주거 정책\n",
      "1. **법률 상담 지원**: 경기도는 청년들이 법률적으로 어려움을 겪을 때 도움을 받을 수 있도록 민사, 가사, 형사, 시민 생활과 관련된 법률, 세무, 노무 상담을 제공합니다.\n",
      "2. **청년 주거 지원**: 청년들이 주거와 관련된 다양한 지원을 받을 수 있도록 정책을 마련하고 있습니다.\n",
      "\n",
      "### 서울시 주거 정책\n",
      "1. **공공임대주택 제공**: 서울시는 청년층의 주거 안정을 위해 공공임대주택을 제공하고 있습니다. 예를 들어, 금천구에서는 청년층을 위한 공공임대주택을 공급하고 있습니다.\n",
      "2. **주거 환경 개선**: 서울시는 주거 환경 개선을 위한 다양한 사업을 진행하고 있으며, 청년층이 안정적으로 거주할 수 있는 환경을 조성하고자 합니다.\n",
      "3. **청년 맞춤형 주거 지원**: 서울시는 청년층의 주거 안정을 위해 다양한 맞춤형 주거 지원 정책을 운영하고 있습니다.\n",
      "\n",
      "경기도는 법률 상담과 같은 법률적 지원에 중점을 두고 있으며, 서울시는 공공임대주택 제공과 주거 환경 개선에 중점을 두고 있습니다. 두 지역 모두 청년층의 주거 안정을 위한 다양한 정책을 운영하고 있습니다.\u001b[0m\n",
      "\n",
      "\u001b[1m> Finished chain.\u001b[0m\n",
      "경기도와 서울시의 주거 정책을 비교해보겠습니다.\n",
      "\n",
      "### 경기도 주거 정책\n",
      "1. **법률 상담 지원**: 경기도는 청년들이 법률적으로 어려움을 겪을 때 도움을 받을 수 있도록 민사, 가사, 형사, 시민 생활과 관련된 법률, 세무, 노무 상담을 제공합니다.\n",
      "2. **청년 주거 지원**: 청년들이 주거와 관련된 다양한 지원을 받을 수 있도록 정책을 마련하고 있습니다.\n",
      "\n",
      "### 서울시 주거 정책\n",
      "1. **공공임대주택 제공**: 서울시는 청년층의 주거 안정을 위해 공공임대주택을 제공하고 있습니다. 예를 들어, 금천구에서는 청년층을 위한 공공임대주택을 공급하고 있습니다.\n",
      "2. **주거 환경 개선**: 서울시는 주거 환경 개선을 위한 다양한 사업을 진행하고 있으며, 청년층이 안정적으로 거주할 수 있는 환경을 조성하고자 합니다.\n",
      "3. **청년 맞춤형 주거 지원**: 서울시는 청년층의 주거 안정을 위해 다양한 맞춤형 주거 지원 정책을 운영하고 있습니다.\n",
      "\n",
      "경기도는 법률 상담과 같은 법률적 지원에 중점을 두고 있으며, 서울시는 공공임대주택 제공과 주거 환경 개선에 중점을 두고 있습니다. 두 지역 모두 청년층의 주거 안정을 위한 다양한 정책을 운영하고 있습니다.\n"
     ]
    }
   ],
   "source": [
    "# 최종 응답 생성\n",
    "final_response = agent_executor.invoke(\n",
    "    {\n",
    "        \"question\": query,\n",
    "        \"context\": combined_context,\n",
    "        \"history\": history,\n",
    "    }\n",
    ")\n",
    "\n",
    "print(final_response[\"output\"])"
   ]
  },
  {
   "cell_type": "markdown",
   "metadata": {},
   "source": [
    "**Log 저장**\n",
    "- query 결과와 최종 응답을 저장하여 재현과 추적 등에 필요한 관리에 활용하고자 하였음."
   ]
  },
  {
   "cell_type": "code",
   "execution_count": 23,
   "metadata": {},
   "outputs": [],
   "source": [
    "# Document 객체를 dict로 변환\n",
    "def serialize_documents(documents):\n",
    "    if isinstance(documents, list):\n",
    "        if all(isinstance(doc, Document) for doc in documents):\n",
    "            return [\n",
    "                {\"page_content\": doc.page_content, \"metadata\": doc.metadata}\n",
    "                for doc in documents\n",
    "            ]\n",
    "        elif all(isinstance(doc, dict) for doc in documents):\n",
    "            return documents\n",
    "    return documents"
   ]
  },
  {
   "cell_type": "code",
   "execution_count": 25,
   "metadata": {},
   "outputs": [
    {
     "name": "stdout",
     "output_type": "stream",
     "text": [
      "log가 response_log.json에 저장되었습니다.\n"
     ]
    }
   ],
   "source": [
    "from module.file import save_json\n",
    "\n",
    "LOG_FILE = \"response_log.json\"\n",
    "\n",
    "# log 저장\n",
    "\n",
    "log = {\n",
    "    \"question\": query,\n",
    "    \"db_result\": serialize_documents(result_from_db),\n",
    "    \"web_result\": serialize_documents(result_from_web),\n",
    "    \"final_answer\": final_response[\"output\"]\n",
    "}\n",
    "save_json(\".\", LOG_FILE, log)\n",
    "print(f\"log가 {LOG_FILE}에 저장되었습니다.\")"
   ]
  }
 ],
 "metadata": {
  "kernelspec": {
   "display_name": "langchain",
   "language": "python",
   "name": "python3"
  },
  "language_info": {
   "codemirror_mode": {
    "name": "ipython",
    "version": 3
   },
   "file_extension": ".py",
   "mimetype": "text/x-python",
   "name": "python",
   "nbconvert_exporter": "python",
   "pygments_lexer": "ipython3",
   "version": "3.12.7"
  }
 },
 "nbformat": 4,
 "nbformat_minor": 2
}
