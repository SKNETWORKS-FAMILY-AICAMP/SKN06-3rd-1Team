{
 "cells": [
  {
   "cell_type": "markdown",
   "metadata": {},
   "source": [
    "# 01. 데이터 수집"
   ]
  },
  {
   "attachments": {
    "open_api.png": {
     "image/png": "[encoded data removed]"
    }
   },
   "cell_type": "markdown",
   "metadata": {},
   "source": [
    "### 1) 정보 찾기\n",
    "\n",
    "Open API 인증을 요청했지만 아직 승인 받지 못함    \n",
    "\n",
    "  ![open_api.png](attachment:open_api.png)"
   ]
  },
  {
   "cell_type": "markdown",
   "metadata": {},
   "source": [
    "온통청년 (https://www.youthcenter.go.kr/youngPlcyUnif/youngPlcyUnifList.do) 크롤링 하기로 결정"
   ]
  },
  {
   "cell_type": "markdown",
   "metadata": {},
   "source": [
    "### 2) 크롤링\n",
    "\n",
    "**라이브러리 불러오기**"
   ]
  },
  {
   "cell_type": "code",
   "execution_count": 2,
   "metadata": {},
   "outputs": [],
   "source": [
    "import requests\n",
    "from bs4 import BeautifulSoup as bs\n",
    "import re\n",
    "import pickle\n",
    "import json\n",
    "import os"
   ]
  },
  {
   "cell_type": "markdown",
   "metadata": {},
   "source": [
    "**json,pickle 저장 및 불러오기 함수 정의**"
   ]
  },
  {
   "cell_type": "code",
   "execution_count": 3,
   "metadata": {},
   "outputs": [],
   "source": [
    "def save_pickle(path: str, file_name: str, data: list):\n",
    "    \"\"\"\n",
    "    데이터를 pickle 파일로 저장.\n",
    "    \"\"\"\n",
    "    os.makedirs(path, exist_ok=True)\n",
    "    with open(f\"{path}/{file_name}\", \"wb\") as f:\n",
    "        pickle.dump(data, f)\n",
    "\n",
    "def load_pickle(path: str) -> list:\n",
    "    \"\"\"\n",
    "    pickle 파일에서 데이터 불러오기.\n",
    "    \"\"\"\n",
    "    with open(path, \"rb\") as f:\n",
    "        return pickle.load(f)\n",
    "\n",
    "def save_json(path: str, file_name: str, data: list):\n",
    "    \"\"\"\n",
    "    데이터를 json 파일로 저장.\n",
    "    \"\"\"\n",
    "    os.makedirs(path, exist_ok=True)\n",
    "    with open(f\"{path}/{file_name}\", \"w\", encoding=\"utf-8\") as f:\n",
    "        json.dump(data, f, indent=4, ensure_ascii=False)\n",
    "\n",
    "def load_json(path: str) -> list:\n",
    "    \"\"\"\n",
    "    json 파일에서 데이터 불러오기.\n",
    "    \"\"\"\n",
    "    with open(path, \"r\", encoding=\"utf-8\") as f:\n",
    "        return json.load(f)\n"
   ]
  },
  {
   "cell_type": "markdown",
   "metadata": {},
   "source": [
    "**정책 ID 크롤링**\n",
    "- 목록 정렬: 1 페이지 - 60개 정책, 총 59 페이지.\n",
    "- 정책 모집 현황은 '진행중','상시','신청 마감'으로 3가지. `24년 12월 23일 기준`으로 `상시`, `진행중`인 정책들만 추출.\n",
    "   ```\n",
    "    <div class=\"badge\">\n",
    "      <span class=\"label green\">진행중</span>\n",
    "      <span class=\"cate\">주거분야</span>\n",
    "    </div>\n",
    "    ```\n",
    "- 각 정책의 링크가 아래와 같이 구성. id 부분에서 `dtlLink_`를 제외한 부분이 각 정책의 코드번호.\n",
    "  ```\n",
    "   <a href=\"#\"id=\"dtlLink_R2024011018628\"onclick=\"f_Detail('R2024011018628');\"class=\"tit\">청년 주택드림 청약통장</a>\n",
    "   ```\n",
    "- 1 페이지부터 59 페이지까지 각 페이지에 있는 정책들의 id만 list로 추출.\n"
   ]
  },
  {
   "cell_type": "code",
   "execution_count": 4,
   "metadata": {},
   "outputs": [],
   "source": [
    "def get_ids_with_state(page_num: int, url: str) -> list:\n",
    "    \"\"\"\n",
    "    청년 정책의 ID 수집.\n",
    "    Parameters:\n",
    "        page_num (int): 추출하려는 총 페이지 수\n",
    "        url (str): 추출 대상의 페이지 링크를 조합할 베이스 링크\n",
    "    Returns:\n",
    "        policy_id_list (list): 상시, 진행중인 정책의 ID를 list로 모아 반환합니다.\n",
    "    \"\"\"\n",
    "    policy_id_list = []\n",
    "    for i in range(1, page_num + 1):\n",
    "        response = requests.get(f\"{url}{i}\")\n",
    "        soup = bs(response.text, \"lxml\")\n",
    "        \n",
    "        badges = soup.select(\"div.badge\")\n",
    "        titles = soup.select(\"a.tit\")\n",
    "        organ = soup.select(\"div.organ-name\")\n",
    "        \n",
    "        for j in range(len(titles)):\n",
    "            badge = badges[j].find(\"span\", attrs={\"label\"}).text\n",
    "            if badge in [\"진행중\", \"상시\"]:\n",
    "                policy_id = titles[j].attrs[\"id\"].replace(\"dtlLink_\", \"\")\n",
    "                organ_name = re.sub(r\"<.*?>\", \"\", str(organ[j].select_one(\"p\")))\n",
    "                organ_name = \"세종\" if organ_name == \"세종 세종\" else organ_name\n",
    "                if policy_id not in policy_id_list:\n",
    "                    policy_id_list.append([policy_id, organ_name])\n",
    "    \n",
    "    return policy_id_list\n"
   ]
  },
  {
   "cell_type": "markdown",
   "metadata": {},
   "source": [
    "**정책 상세 정보 크롤링**\n",
    "- index\n",
    "\n",
    "| index | name               | index | name                     |\n",
    "| ----- | ------------------ | ----- | ------------------------ |\n",
    "| 0     | \"정책 번호\"        | 13    | \"추가 단서 사항\"         |\n",
    "| 1     | \"정책 분야\"        | 14    | \"참여 제한 대상\"         |\n",
    "| 2     | \"지원 내용\"        | 15    | \"신청 절차\"              |\n",
    "| 3     | \"사업 운영 기간\"   | 16    | \"심사 및 발표\"           |\n",
    "| 4     | \"사업 신청청 기간\" | 17    | \"신청 사이트\"            |\n",
    "| 5     | \"지원 규모(명)\"    | 18    | \"제출 서류\"              |\n",
    "| 6     | \"비고\"             | 19    | \"기타 유익 정보\"         |\n",
    "| 7     | \"연령\"             | 20    | \"주관 기관\"              |\n",
    "| 8     | \"거주지 및 소득\"   | 21    | \"운영 기관\"              |\n",
    "| 9     | \"학력\"             | 22    | \"사업관련 참고 사이트 1\" |\n",
    "| 10    | \"전공\"             | 23    | \"사업관련 참고 사이트 2\" |\n",
    "| 11    | \"취업 상태\"        | 24    | \"첨부파일\"               |\n",
    "| 12    | \"특화 분야\"        |\n"
   ]
  },
  {
   "cell_type": "markdown",
   "metadata": {},
   "source": [
    "**HTML 문자열 처리 함수 정의**\n",
    "- '객체.text'로 추출되지 않는 요소들이 존재. -> '객체.contents'로 개별 요소 추출.\n",
    "- 요소에 `<br/>`이 있는 경우 이 현상이 잘 나타남. -> `<br/>`태그 제거\n",
    "- '객체.text'로 추출한 경우 과도한 공백 및 줄바꿈 발견\n",
    "- '객체.contents'로 추출할 경우 과도한 공백 및 줄바꿈을 이스케이프 문자로 추출 -> `\\n, \\t`등 이스케이프 문자 제거\n",
    "- 여기서 과도한 공백이란 두 칸 이상의 띄어쓰기를 한 경우. 전체 띄어쓰기를 한 칸으로 맞추려면 시간이 오래 소요되기 때문에 두 칸만 제거."
   ]
  },
  {
   "cell_type": "code",
   "execution_count": 5,
   "metadata": {},
   "outputs": [],
   "source": [
    "def formated(string: str) -> str:\n",
    "    \"\"\"\n",
    "    HTML 태그, 이스케이프 문자, 과도한 공백 제거.\n",
    "    \"\"\"\n",
    "    tag_format = r\"<.*?>\"\n",
    "    string = string.replace(\"\\n\", \"\").replace(\"\\t\", \"\")\n",
    "    string = re.sub(tag_format, \"\", str(string))\n",
    "    string = string.replace(\"  \", \"\")\n",
    "    return string"
   ]
  },
  {
   "cell_type": "code",
   "execution_count": 6,
   "metadata": {},
   "outputs": [],
   "source": [
    "def crawling(policy_id_list: list, url: str, params: dict, cont_attrs: bool = True) -> list:\n",
    "    \"\"\"\n",
    "    정책 상세 정보를 수집.\n",
    "    \"\"\"\n",
    "    total_policy = []\n",
    "    format = {\"br\": r\"<br/>\", \"a\": r\"<a href\"}\n",
    "    \n",
    "    for id, organ in policy_id_list:\n",
    "        policy = {}\n",
    "        try:\n",
    "            response = requests.get(f\"{url}{id}\")\n",
    "        except:\n",
    "            response = requests.get(f\"{url.replace('https', 'http')}{id}\")\n",
    "        \n",
    "        soup = bs(response.text, \"html.parser\")\n",
    "\n",
    "        # 정책 이름 추출\n",
    "        title = soup.find(params[\"title\"][0], params[\"title\"][1]).text\n",
    "        policy[\"정책 이름\"] = title\n",
    "        \n",
    "        if cont_attrs:\n",
    "            policy[\"기관\"] = organ\n",
    "            subtitle = soup.find(\"p\", \"doc_desc\").text\n",
    "            subtitle = subtitle.replace(\"\\r\", \" \")\n",
    "            subtitle = subtitle.strip()\n",
    "            policy[\"요약\"] = subtitle\n",
    "            list_tit = soup.find_all(\n",
    "                name=params[\"list_tit\"][0], attrs=params[\"list_tit\"][1]\n",
    "            )\n",
    "            list_cont = soup.find_all(\n",
    "                name=params[\"list_cont\"][0], attrs=params[\"list_cont\"][1]\n",
    "            )\n",
    "        else:\n",
    "            list_tit = soup.find_all(name=params[\"list_tit\"][0])\n",
    "            list_cont = soup.find_all(name=params[\"list_cont\"][0])\n",
    "        \n",
    "        # 항목 내용 처리\n",
    "        for i in range(len(list_tit)):\n",
    "            # list_cont[i].contents = [\"\\n\", \"ㅁㅁㅁ\", \"\\n\"] 또는 [\"\\n\\t\\t\\t\\tㅁㅁㅁㅁ\\n\\t\\t\\t\\t\", \"<br/>\", \"ㅁㅁㅁ\"]과 같이 나옴\n",
    "            if len(list_cont[i].contents) > 1:\n",
    "                contents = []\n",
    "                for j in range(len(list_cont[i].contents)):\n",
    "                    content = list_cont[i].contents[j]\n",
    "                    # <br/> 제거\n",
    "                    if re.match(format[\"br\"], str(content)) != None:\n",
    "                        content = None\n",
    "                    # url만 있는 경우 추출\n",
    "                    elif re.match(format[\"a\"], str(content)) != None:\n",
    "                        content = content.attrs[\"href\"]\n",
    "                    # 그 외 공백 제거, '\\n', '\\t', 제거 안된 html 태그 제거\n",
    "                    else:\n",
    "                        content = content.text\n",
    "                        content = content.strip()\n",
    "                        content = formated(content)\n",
    "                    # 처리 작업이 끝난 후 의미있는 요소만 contents(list)에 추가\n",
    "                    if content not in [None, \"\\n\", \"\", \",\"]:\n",
    "                        # \\r이 있을 경우 이를 구분자로 분할한 뒤 삽입\n",
    "                        if \"\\r\" in content:\n",
    "                            content = content.split(\"\\r\")\n",
    "                            for con in content:\n",
    "                                contents.append(con)\n",
    "                        else:\n",
    "                            contents.append(content)\n",
    "                if len(contents) == 1:\n",
    "                    contents = \"\".join(contents)\n",
    "            else:\n",
    "                contents = list_cont[i].contents\n",
    "                contents = \"\".join(contents)\n",
    "                contents = formated(contents)\n",
    "\n",
    "            # 동일한 요소가 contents(list)에 들어있을 경우\n",
    "            if (\n",
    "                isinstance(contents, list)\n",
    "                and len(contents) == 2\n",
    "                and contents[0] == contents[1]\n",
    "            ):\n",
    "                contents = set(contents)\n",
    "                contents = \"\".join(contents)\n",
    "                contents = formated(contents)\n",
    "            # 정책의 항목 이름, 내용 연결\n",
    "            policy[list_tit[i].text] = contents\n",
    "        total_policy.append(policy)\n",
    "    return total_policy"
   ]
  },
  {
   "cell_type": "markdown",
   "metadata": {},
   "source": [
    "**main 코드**\n",
    "- 해당 웹 사이트 크롤링"
   ]
  },
  {
   "cell_type": "code",
   "execution_count": 39,
   "metadata": {},
   "outputs": [
    {
     "name": "stdout",
     "output_type": "stream",
     "text": [
      "1337개 정책 ID 크롤링 완료\n",
      "policy_id_list 저장 완료\n",
      "1337개 정책 상세 정보 크롤링 완료\n",
      "policy.json 저장 완료\n"
     ]
    }
   ],
   "source": [
    "# 저장 경로 생성\n",
    "DATA_DIR = \"../data\"\n",
    "os.makedirs(DATA_DIR, exist_ok=True)\n",
    "\n",
    "# 정책 ID 수집\n",
    "URL = \"https://www.youthcenter.go.kr/youngPlcyUnif/youngPlcyUnifList.do?pageUnit=60&pageIndex=\"\n",
    "policy_id_list = get_ids_with_state(59, URL)\n",
    "print(f\"{len(policy_id_list)}개 정책 ID 크롤링 완료\")\n",
    "\n",
    "# 저장\n",
    "save_pickle(f\"{DATA_DIR}\", \"policy_id_list.pkl\", policy_id_list)\n",
    "print(\"policy_id_list 저장 완료\")\n",
    "\n",
    "# 정책 상세 정보 크롤링\n",
    "DETAIL_URL = \"https://www.youthcenter.go.kr/youngPlcyUnif/youngPlcyUnifDtl.do?bizId=\"\n",
    "params = {\n",
    "    \"title\": [\"h2\", \"doc_tit01 type2\"],\n",
    "    \"list_tit\": [\"div\", \"list_tit\"],\n",
    "    \"list_cont\": [\"div\", \"list_cont\"],\n",
    "}\n",
    "total_policy = crawling(policy_id_list, DETAIL_URL, params, cont_attrs=True)\n",
    "print(f\"{len(total_policy)}개 정책 상세 정보 크롤링 완료\")\n",
    "\n",
    "# 저장\n",
    "save_json(f\"{DATA_DIR}\", \"policy.json\", total_policy)\n",
    "print(\"policy.json 저장 완료\")\n"
   ]
  },
  {
   "cell_type": "markdown",
   "metadata": {},
   "source": [
    "# 02. 데이터 전처리"
   ]
  },
  {
   "cell_type": "markdown",
   "metadata": {},
   "source": [
    "### 1) 데이터 구조화\n",
    "\n",
    "**사용되지 않을 항목 삭제**\n",
    "- key값이 아래에 해당하면 항목 삭제\n",
    "  >[\"요약\", \"정책 번호\", \"신청 사이트\", \"사업관련 참고 사이트 1\", \"사업관련 참고 사이트 2\", \"첨부파일\"]\n",
    "\n",
    "\n",
    "**의미 없는 값 삭제**\n",
    "- value값이 아래에 해당하면 항목 삭제\n",
    "  >[\"제한없음\", \"\", \"-\", \"상관없음\", \"□제한없음\",\"□ 제한없음\",\"- 제한없음\",\"-제한없음\"]"
   ]
  },
  {
   "cell_type": "code",
   "execution_count": 30,
   "metadata": {},
   "outputs": [
    {
     "name": "stdout",
     "output_type": "stream",
     "text": [
      "policy_result.json 저장 완료\n"
     ]
    }
   ],
   "source": [
    "# 삭제 항목 정의\n",
    "remove_keys = [\n",
    "    \"요약\", \"정책 번호\", \"신청 사이트\", \n",
    "    \"사업관련 참고 사이트 1\", \"사업관련 참고 사이트 2\", \"첨부파일\"\n",
    "]\n",
    "\n",
    "remove_values = [\n",
    "    \"제한없음\", \"\", \"-\", \"상관없음\", \"□제한없음\",\n",
    "    \"□ 제한없음\",\"- 제한없음\",\"-제한없음\"\n",
    "]\n",
    "\n",
    "# 삭제 함수 정의\n",
    "def remove_keys_from_data(data, keys):\n",
    "    if isinstance(data, list):\n",
    "        return [remove_keys_from_data(item, keys) for item in data]\n",
    "    elif isinstance(data, dict):\n",
    "        return {\n",
    "            key: remove_keys_from_data(value, keys)\n",
    "            for key, value in data.items()\n",
    "            if key not in keys\n",
    "        }\n",
    "    else:\n",
    "        return data\n",
    "\n",
    "def remove_values_from_data(data):\n",
    "    if isinstance(data, list):\n",
    "        return [remove_values_from_data(item) for item in data if item not in remove_values]\n",
    "    elif isinstance(data, dict):\n",
    "        return {\n",
    "            key: remove_values_from_data(value)\n",
    "            for key, value in data.items()\n",
    "            if value not in remove_values\n",
    "        }\n",
    "    else:\n",
    "        return data\n",
    "    \n",
    "# 불러오기 \n",
    "data = load_json(\"../data/policy.json\")\n",
    "\n",
    "# 삭제\n",
    "data_cleaned_keys = remove_keys_from_data(data, remove_keys)\n",
    "preprocess_data = remove_values_from_data(data_cleaned_keys)\n",
    "\n",
    "# 저장\n",
    "save_json(\"../data\",\"policy_result.json\", preprocess_data)\n",
    "\n",
    "print(\"policy_result.json 저장 완료\")"
   ]
  },
  {
   "cell_type": "markdown",
   "metadata": {},
   "source": [
    "### 2) 텍스트 전처리"
   ]
  },
  {
   "cell_type": "markdown",
   "metadata": {},
   "source": [
    "**불용어 삭제**\n",
    "- 문서에서 `100번 이상` 등장한 단어를 frequent_words 리스트에 저장\n",
    "- 리스트에서 불용어로 판단 되는 것들 추출\n",
    "- 성능 평가 후 성능 최적화를 위해 삭제하는 단어를 변경할 수 있음\n",
    "- 불용어 리스트\n",
    "  > \"수행\", \"경우\", \"해당\", \"통하여\", \"대한\", \"관련\", \"연\", \"있는\", \"자\", \"기준\",\n",
    "    \"시\", \"가능\", \"신청\", \"등\", \"및\", \"확인\", \"포함\", \"또는\", \"중인\",\n",
    "    \"후\", \"심사\", \"통해\", \"따라\", \"서비스\", \"제공\", \"프로그램\", \"참여\", \"따른\",\n",
    "    \"단\", \"추가\", \"중\", \"수\", \"맞춤형\", \"대한\", \"해당\", \"관한\", \"이용\", \"그\",\n",
    "    \"개별\", \"등을\", \"두고\""
   ]
  },
  {
   "cell_type": "code",
   "execution_count": 14,
   "metadata": {},
   "outputs": [
    {
     "name": "stdout",
     "output_type": "stream",
     "text": [
      "[100번 이상 등장하는 단어]\n",
      "청년, 주거분야, 최대, 연, 있는, 자, 기준, 월, 경우, 1년\n",
      "이상, 가입, 시, 이하, 주택, 출산, 2024년, 12월31일, 가능, 만\n",
      "19세, 34세, 소득, 매월, 지원, 2024, 2, 대상, 신청, 중위소득\n",
      "등, 및, 확인, 제외, 포함, 거주, 별도, 또는, 중인, 후\n",
      "온라인, 방문, 월세, 지급, 신청서, 서류, 사본, 사업, 심사, 통해\n",
      "고용노동부, 일자리분야, 1, 따라, 서비스, 제공, 기간, 프로그램, 참여, 위한\n",
      "취업, 따른, 단, 1회, 추가, 상시, 중, 수, 6개월, 이내\n",
      "필요한, 1인, 가구, 문의, 대상자, 동의서, 제출, 신청인이, 관련, 증빙서류\n",
      "3, 4, 5, 3개월, 보건복지부, 복지문화분야, 맞춤형, 지역, 참고, 대한\n",
      "모두, 해당, 배우자, 현재, 관한, 홈페이지, 관할, 선정, 기타, 주민등록상\n",
      "동일, 이용, 불가, 그, 신분증, 주민등록등본, 지원내용, 창업, 필수, 1인당\n",
      "미만, 각, 개별, 지원사업, 18세, 이후, 39세, 공고문, 20241231, 본인\n",
      "주소지, 거주지, 읍면동, 행정복지센터, 예산, 참조, 발급, 기업, 등을, 모집\n",
      "서울, 운영, 교육, 서울시, 신혼부부, 신청자, 작성, 접수, 내용, 주관기관과\n",
      "12, 상담, 신청일, 두고, 신청방법, 내, 지원대상, 거주하는, 임차인, 교육분야\n",
      "30만원, 사업장, 사업자, 소상공인, 통한, 지원금, 면접, 사업기간, 참여자, 미정\n",
      "경기, 공고, 이메일, 경북, 경기도, 1부, 북구, 동구, 남구, 관내\n",
      "울산광역시, 보증료, 울산\n"
     ]
    }
   ],
   "source": [
    "import json\n",
    "import re\n",
    "from collections import Counter\n",
    "\n",
    "# 불러오기\n",
    "data = load_json(\"../data/policy.json\")\n",
    "\n",
    "# 모든 텍스트 추출\n",
    "def text_from_json(data):\n",
    "    \"\"\"\n",
    "    JSON 데이터에서 모든 문자열을 추출.\n",
    "    \"\"\"\n",
    "    texts = []\n",
    "    if isinstance(data, dict):\n",
    "        for value in data.values():\n",
    "            texts.extend(text_from_json(value))\n",
    "    elif isinstance(data, list):\n",
    "        for item in data:\n",
    "            texts.extend(text_from_json(item))\n",
    "    elif isinstance(data, str):\n",
    "        texts.append(data)\n",
    "    return texts\n",
    "\n",
    "# 단어 분리\n",
    "def text_to_word(text):\n",
    "    \"\"\"\n",
    "    텍스트를 정제하고 단어 단위로 분리.\n",
    "    \"\"\"\n",
    "    text = re.sub(r'[^가-힣a-zA-Z0-9\\s]', '', text)  # 특수문자 제거\n",
    "    words = text.split()  # 공백 기준으로 단어 분리\n",
    "    return words\n",
    "\n",
    "# 자주 등장하는 단어 찾기\n",
    "def get_frequent_words(words, threshold=100):\n",
    "    \"\"\"\n",
    "    단어 목록에서 자주 등장하는 단어를 찾음.\n",
    "    \"\"\"\n",
    "    word_counts = Counter(words)\n",
    "    frequent_words = [word for word, count in word_counts.items() if count >= threshold]\n",
    "    return frequent_words\n",
    "\n",
    "# 실행\n",
    "if __name__ == \"__main__\":\n",
    "\n",
    "    # 불러오기\n",
    "    FILE_PATH = \"../data/policy_result.json\"\n",
    "    data = load_json(FILE_PATH)\n",
    "    \n",
    "    # 텍스트 추출\n",
    "    texts = text_from_json(data)\n",
    "    \n",
    "    # 단어 분리\n",
    "    all_words = []\n",
    "    for text in texts:\n",
    "        all_words.extend(text_to_word(text))\n",
    "    \n",
    "    # 50번 이상 등장하는 단어\n",
    "    threshold = 100\n",
    "    frequent_words = get_frequent_words(all_words, threshold)\n",
    "    \n",
    "    # 출력\n",
    "    print(\"[100번 이상 등장하는 단어]\")\n",
    "    for i in range(0, len(frequent_words), 10):\n",
    "        print(\", \".join(frequent_words[i:i + 10]))\n"
   ]
  },
  {
   "cell_type": "markdown",
   "metadata": {},
   "source": [
    "**url 삭제**\n",
    "- 정규표현식이 'http://'(http,https),'.kr'인 경우 url이라고 판단하고 삭제  \n",
    "\n",
    "**특수기호 삭제**\n",
    "- 숫자, 한글, 영어를 제외하고 삭제\n",
    "- 소수점 유지를 위해 '.'은 유지"
   ]
  },
  {
   "cell_type": "code",
   "execution_count": 31,
   "metadata": {},
   "outputs": [
    {
     "name": "stdout",
     "output_type": "stream",
     "text": [
      "policy_result.json 저장 완료\n"
     ]
    }
   ],
   "source": [
    "import re\n",
    "\n",
    "# 불러오기\n",
    "data = load_json(\"../data/policy_result.json\")\n",
    "\n",
    "# 불용어 \n",
    "stopwords = [\n",
    "    \"수행\", \"경우\", \"해당\", \"통하여\", \"대한\", \"관련\", \"연\", \"있는\", \"자\", \"기준\",\n",
    "    \"시\", \"가능\", \"신청\", \"등\", \"및\", \"확인\", \"포함\", \"또는\", \"중인\",\n",
    "    \"후\", \"심사\", \"통해\", \"따라\", \"서비스\", \"제공\", \"프로그램\", \"참여\", \"따른\",\n",
    "    \"단\", \"추가\", \"중\", \"수\", \"맞춤형\", \"대한\", \"해당\", \"관한\", \"이용\", \"그\",\n",
    "    \"개별\", \"등을\", \"두고\"\n",
    "]\n",
    "\n",
    "# 제거 함수\n",
    "def remove_text(text):\n",
    "    if isinstance(text, str):\n",
    "        # URL 제거\n",
    "        text = re.sub(r'\\bhttps?://[^\\s]*\\.kr\\b', '', text)\n",
    "        \n",
    "        # 특수기호 제거 (숫자, 한글, 영어 유지)\n",
    "        text = re.sub(r'[^가-힣a-zA-Z0-9\\s.]',' ', text)\n",
    "        \n",
    "        # 불용어 제거\n",
    "        for stopword in stopwords:\n",
    "            text = text.replace(stopword, '')\n",
    "        return text   \n",
    "    \n",
    "    return text\n",
    "\n",
    "# 데이터 처리\n",
    "def process_json(data):\n",
    "    if isinstance(data, dict):\n",
    "        return {key: process_json(value) for key, value in data.items()}\n",
    "    elif isinstance(data, list):\n",
    "        return [process_json(item) for item in data]\n",
    "    elif isinstance(data, str):\n",
    "        return remove_text(data)\n",
    "    else:\n",
    "        return data\n",
    "\n",
    "\n",
    "cleaned_data = process_json(data)\n",
    "\n",
    "# 저장\n",
    "save_json(\"../data\",\"policy_result.json\",cleaned_data)\n",
    "print(\"policy_result.json 저장 완료\")"
   ]
  },
  {
   "cell_type": "markdown",
   "metadata": {},
   "source": [
    "### 3) 토큰화\n"
   ]
  },
  {
   "cell_type": "code",
   "execution_count": 33,
   "metadata": {},
   "outputs": [
    {
     "name": "stdout",
     "output_type": "stream",
     "text": [
      "policy_result.json 저장 완료\n"
     ]
    }
   ],
   "source": [
    "import json\n",
    "import re\n",
    "\n",
    "# 불러오기\n",
    "data = load_json(\"../data/policy_result.json\")\n",
    "\n",
    "# 문자열 정제 (불용어 제거 없음)\n",
    "def clean_text(text: str):\n",
    "    \"\"\"\n",
    "    텍스트 정제 (불용어 제거 없음)\n",
    "    \"\"\"\n",
    "    if isinstance(text, str):\n",
    "        # URL 제거\n",
    "        text = re.sub(r'\\bhttps?://[^\\s]*\\.kr\\b', '', text)\n",
    "        \n",
    "        # 특수기호 제거 (숫자, 한글, 영어, 공백 유지)\n",
    "        text = re.sub(r'[^가-힣a-zA-Z0-9\\s]', ' ', text)\n",
    "        \n",
    "        # 다중 공백 제거\n",
    "        text = \" \".join(text.split()).strip()\n",
    "        \n",
    "        return text\n",
    "    return text\n",
    "\n",
    "# 키-값을 문자열로 병합\n",
    "def key_value_to_string(key, value):\n",
    "    \"\"\"\n",
    "    키와 값을 병합하여 문자열로 반환\n",
    "    \"\"\"\n",
    "    merged_value = merge_values(value)\n",
    "    return f\"{key}:{merged_value}\"\n",
    "\n",
    "# 리스트, 딕셔너리, 문자열 병합\n",
    "def merge_values(item):\n",
    "    \"\"\"\n",
    "    리스트, 딕셔너리, 문자열을 하나의 문자열로 병합\n",
    "    \"\"\"\n",
    "    if isinstance(item, list):\n",
    "        return \" \".join(merge_values(sub_item) for sub_item in item)\n",
    "    elif isinstance(item, dict):\n",
    "        return \" \".join(f\"{key}:{merge_values(value)}\" for key, value in item.items())\n",
    "    elif isinstance(item, str):\n",
    "        return clean_text(item)\n",
    "    else:\n",
    "        return str(item)\n",
    "\n",
    "# 정책 이름을 키로 사용하고 나머지 키-값을 리스트로 변환\n",
    "def tokenize_by_policy_name(data):\n",
    "    \"\"\"\n",
    "    정책 이름을 키로 사용하고, 나머지 키-값을 리스트로 변환합니다.\n",
    "    \"\"\"\n",
    "    result = {}\n",
    "    if isinstance(data, list):\n",
    "        for item in data:\n",
    "            if isinstance(item, dict) and \"정책 이름\" in item:\n",
    "                policy_name = item[\"정책 이름\"]\n",
    "                \n",
    "                # 나머지 키-값을 리스트로 변환\n",
    "                tokenized_content = [\n",
    "                    key_value_to_string(key, value)\n",
    "                    for key, value in item.items()\n",
    "                    if key != \"정책 이름\"\n",
    "                ]\n",
    "                \n",
    "                result[policy_name] = tokenized_content\n",
    "    return result\n",
    "tokenized_data = tokenize_by_policy_name(data)\n",
    "# 저장\n",
    "save_json(\"../data\",\"policy_result.json\",tokenized_data)\n",
    "print(\"policy_result.json 저장 완료\")\n",
    "\n"
   ]
  },
  {
   "cell_type": "code",
   "execution_count": null,
   "metadata": {},
   "outputs": [],
   "source": []
  },
  {
   "cell_type": "markdown",
   "metadata": {},
   "source": [
    "# 03. RAG 시스템"
   ]
  },
  {
   "cell_type": "markdown",
   "metadata": {},
   "source": [
    "# 04. 성능 평가"
   ]
  }
 ],
 "metadata": {
  "kernelspec": {
   "display_name": "langchain",
   "language": "python",
   "name": "python3"
  },
  "language_info": {
   "codemirror_mode": {
    "name": "ipython",
    "version": 3
   },
   "file_extension": ".py",
   "mimetype": "text/x-python",
   "name": "python",
   "nbconvert_exporter": "python",
   "pygments_lexer": "ipython3",
   "version": "3.11.11"
  }
 },
 "nbformat": 4,
 "nbformat_minor": 2
}
